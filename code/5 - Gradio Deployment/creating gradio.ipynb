{
 "cells": [
  {
   "cell_type": "code",
   "execution_count": 1,
   "metadata": {},
   "outputs": [],
   "source": [
    "import pandas as pd\n",
    "import numpy as np\n",
    "import gradio as gr\n",
    "import torch\n",
    "import torch.nn as nn\n",
    "import torch.nn.functional as F\n",
    "import torch.optim as optim\n",
    "import torch.utils.data"
   ]
  },
  {
   "cell_type": "code",
   "execution_count": 2,
   "metadata": {},
   "outputs": [],
   "source": [
    "main_df = pd.read_csv('../3 - Cleaning & Transforming Data/2 cleaned_dataset_MERGED_DRUG(Mogran)_ALLELESEQ.csv')"
   ]
  },
  {
   "cell_type": "code",
   "execution_count": 3,
   "metadata": {},
   "outputs": [],
   "source": [
    "allele_raw_df = pd.read_csv('../3 - Cleaning & Transforming Data/0 Selected_Protein_Seq_Dropped.csv')\n",
    "seq_col = allele_raw_df.iloc[:,5:]\n",
    "name_col = allele_raw_df['new_alleles']\n",
    "allele_df = pd.concat([name_col, seq_col] ,axis=1)\n",
    "allele_list = allele_df['new_alleles'].drop_duplicates().tolist()"
   ]
  },
  {
   "cell_type": "code",
   "execution_count": 4,
   "metadata": {},
   "outputs": [],
   "source": [
    "drug_raw_df = pd.read_csv('../1 - Drugs Descriptors/drug_descriptors_dataset_morgan_dropped.csv')\n",
    "drug_list = drug_raw_df['DRUG_NAME'].drop_duplicates().tolist()"
   ]
  },
  {
   "cell_type": "code",
   "execution_count": 5,
   "metadata": {},
   "outputs": [
    {
     "data": {
      "text/plain": [
       "RecursiveScriptModule(\n",
       "  original_name=Network\n",
       "  (layers): RecursiveScriptModule(\n",
       "    original_name=Sequential\n",
       "    (0): RecursiveScriptModule(original_name=Linear)\n",
       "    (1): RecursiveScriptModule(original_name=ReLU)\n",
       "    (2): RecursiveScriptModule(original_name=Dropout)\n",
       "    (3): RecursiveScriptModule(original_name=Linear)\n",
       "    (4): RecursiveScriptModule(original_name=ReLU)\n",
       "    (5): RecursiveScriptModule(original_name=Dropout)\n",
       "    (6): RecursiveScriptModule(original_name=Linear)\n",
       "    (7): RecursiveScriptModule(original_name=ReLU)\n",
       "    (8): RecursiveScriptModule(original_name=Dropout)\n",
       "    (9): RecursiveScriptModule(original_name=Linear)\n",
       "    (10): RecursiveScriptModule(original_name=ReLU)\n",
       "    (11): RecursiveScriptModule(original_name=Dropout)\n",
       "    (12): RecursiveScriptModule(original_name=Linear)\n",
       "    (13): RecursiveScriptModule(original_name=Sigmoid)\n",
       "  )\n",
       ")"
      ]
     },
     "execution_count": 5,
     "metadata": {},
     "output_type": "execute_result"
    }
   ],
   "source": [
    "model2 = torch.jit.load('../4 - Training & Testing/final/final').to('cuda')\n",
    "model2.eval()"
   ]
  },
  {
   "cell_type": "code",
   "execution_count": 6,
   "metadata": {},
   "outputs": [],
   "source": [
    "race_list =[\n",
    "    \"Caucasian (predominantly)\",\n",
    "    'Indian',\n",
    "    'European',\n",
    "    'Caucasian (North West)',\n",
    "    'Caucasian (Spanish)',\n",
    "    'Arab',\n",
    "    'Han Chinese',\n",
    "    'Japanese',\n",
    "    'Korean',\n",
    "    'Malay',\n",
    "    'Thai',\n",
    "    'Vietnamese',\n",
    "    'Unknown'\n",
    "]"
   ]
  },
  {
   "cell_type": "code",
   "execution_count": 7,
   "metadata": {},
   "outputs": [],
   "source": [
    "race_dict ={\n",
    "    \"Caucasian (predominantly)\":'Caucasian',\n",
    "    'Indian':'Caucasian',\n",
    "    'European':'Caucasian',\n",
    "    'Caucasian (North West)':'Caucasian',\n",
    "    'Caucasian (Spanish)':'Caucasian',\n",
    "    'Arab':'Caucasian',\n",
    "    'Han Chinese':'Mongol',\n",
    "    'Japanese':'Mongol',\n",
    "    'Korean':'Mongol',\n",
    "    'Malay':'Mongol',\n",
    "    'Thai':'Mongol',\n",
    "    'Vietnamese':'Mongol',\n",
    "    'Unknown':'Diverse'\n",
    "}"
   ]
  },
  {
   "cell_type": "code",
   "execution_count": 8,
   "metadata": {},
   "outputs": [
    {
     "name": "stderr",
     "output_type": "stream",
     "text": [
      "c:\\Users\\harit\\AppData\\Local\\Programs\\Python\\Python37\\lib\\site-packages\\gradio\\blocks.py:256: UserWarning: api_name predict already exists, using predict_1\n",
      "  \"api_name {} already exists, using {}\".format(api_name, api_name_)\n",
      "c:\\Users\\harit\\AppData\\Local\\Programs\\Python\\Python37\\lib\\site-packages\\gradio\\blocks.py:256: UserWarning: api_name predict already exists, using predict_2\n",
      "  \"api_name {} already exists, using {}\".format(api_name, api_name_)\n"
     ]
    },
    {
     "name": "stdout",
     "output_type": "stream",
     "text": [
      "Running on local URL:  http://127.0.0.1:7860\n",
      "\n",
      "Could not create share link. Please check your internet connection or our status page: https://status.gradio.app\n"
     ]
    },
    {
     "data": {
      "text/html": [
       "<div><iframe src=\"http://127.0.0.1:7860/\" width=\"100%\" height=\"500\" allow=\"autoplay; camera; microphone; clipboard-read; clipboard-write;\" frameborder=\"0\" allowfullscreen></iframe></div>"
      ],
      "text/plain": [
       "<IPython.core.display.HTML object>"
      ]
     },
     "metadata": {},
     "output_type": "display_data"
    },
    {
     "data": {
      "text/plain": []
     },
     "execution_count": 8,
     "metadata": {},
     "output_type": "execute_result"
    },
    {
     "name": "stderr",
     "output_type": "stream",
     "text": [
      "c:\\Users\\harit\\AppData\\Local\\Programs\\Python\\Python37\\lib\\site-packages\\torch\\nn\\modules\\module.py:1194: UserWarning: FALLBACK path has been taken inside: torch::jit::fuser::cuda::runCudaFusionGroup. This is an indication that codegen Failed for some reason.\n",
      "To debug try disable codegen fallback path via setting the env variable `export PYTORCH_NVFUSER_DISABLE=fallback`\n",
      " (Triggered internally at C:\\actions-runner\\_work\\pytorch\\pytorch\\builder\\windows\\pytorch\\torch\\csrc\\jit\\codegen\\cuda\\manager.cpp:336.)\n",
      "  return forward_call(*input, **kwargs)\n"
     ]
    }
   ],
   "source": [
    "def calculator(Race,Allele,Drug):\n",
    "\n",
    "    Race = race_dict[Race]\n",
    "    allele = allele_df[allele_df['new_alleles'] == Allele].copy()\n",
    "    drug = drug_raw_df[drug_raw_df['DRUG_NAME'] == Drug].copy()\n",
    "    dict_of_race = {\n",
    "        \"Black\":[0],\n",
    "        \"Caucasian\":[0],\n",
    "        \"Diverse\":[0],\n",
    "        \"Mongol\":[0],\n",
    "    }\n",
    "    dict_of_race[Race] = [1]\n",
    "    race = pd.DataFrame(dict_of_race)\n",
    "\n",
    "    allele.drop(columns=['new_alleles'], inplace=True)\n",
    "    allele = allele.reset_index(drop=True)\n",
    "    drug.drop(columns=['DRUG_NAME'], inplace=True)\n",
    "    drug.reset_index(drop=True, inplace=True)\n",
    "    input_df = pd.concat([race,drug,allele],axis=1)\n",
    "\n",
    "    output = model2(torch.tensor(input_df.values, dtype=torch.float32).to('cuda'))\n",
    "    output = output.detach().cpu().numpy()[0]\n",
    "    return output\n",
    "\n",
    "desc = \"Predicting Type 2 ADRs with Alleles, Race, and Drugs (Morgan Fingerprints)\\n Faculty of Pharmaceutical Science - Chulalongkorn University\"\n",
    "\n",
    "demo = gr.Interface(\n",
    "    calculator,\n",
    "    [gr.Dropdown(race_list), \n",
    "     gr.Dropdown(allele_list),\n",
    "     gr.Radio(drug_list)], \"number\",\n",
    "    live=True,\n",
    "    title=\"Predicting Type 2 ADRs with Alleles, Race, and Drugs (Morgan Fingerprints)\",\n",
    "    allow_flagging='never',\n",
    "    description = desc,\n",
    "    article = \"Click here for the Project's [Github](https://github.com/akumaharit/seniorproject)\"\n",
    ")\n",
    "#demo.launch() \n",
    "demo.launch(share=True) #auth=(\"admin\", \"eieiza\"), "
   ]
  }
 ],
 "metadata": {
  "kernelspec": {
   "display_name": "Python 3",
   "language": "python",
   "name": "python3"
  },
  "language_info": {
   "codemirror_mode": {
    "name": "ipython",
    "version": 3
   },
   "file_extension": ".py",
   "mimetype": "text/x-python",
   "name": "python",
   "nbconvert_exporter": "python",
   "pygments_lexer": "ipython3",
   "version": "3.7.9"
  },
  "orig_nbformat": 4
 },
 "nbformat": 4,
 "nbformat_minor": 2
}
