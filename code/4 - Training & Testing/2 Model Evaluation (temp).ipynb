{
 "cells": [
  {
   "cell_type": "code",
   "execution_count": 68,
   "metadata": {},
   "outputs": [],
   "source": [
    "import torch\n",
    "import torchviz\n",
    "import os\n",
    "import torch.nn as nn\n",
    "import pandas as pd\n",
    "import numpy as np      \n",
    "from sklearn.model_selection import train_test_split\n",
    "import tensorflow as tf\n",
    "from torch.utils.tensorboard import SummaryWriter\n",
    "from torch.utils.data import DataLoader, TensorDataset, ConcatDataset\n",
    "from torch.utils.data import WeightedRandomSampler, RandomSampler\n",
    "import matplotlib.pyplot as plt\n",
    "from sklearn.metrics import confusion_matrix, ConfusionMatrixDisplay, precision_score, recall_score, f1_score, accuracy_score, precision_recall_curve, classification_report, roc_curve, roc_auc_score\n",
    "from sklearn.model_selection import KFold, StratifiedKFold"
   ]
  },
  {
   "cell_type": "code",
   "execution_count": 69,
   "metadata": {},
   "outputs": [],
   "source": [
    "# import dataset\n",
    "df = pd.read_csv(\"../3 - Cleaning & Transforming Data/2 cleaned_dataset_MERGED_DRUG(Mogran)_ALLELESEQ.csv\", index_col = None)\n",
    "\n",
    "if(df.isna().any().sum()) != 0:\n",
    "    raise Exception('There are still missing values in the dataset!')"
   ]
  },
  {
   "cell_type": "code",
   "execution_count": 70,
   "metadata": {},
   "outputs": [
    {
     "name": "stdout",
     "output_type": "stream",
     "text": [
      "Drug\n",
      "Allele\n",
      "ADR_MPexanthema\n",
      "ADR_SJS\n",
      "ADR_TEN\n",
      "ADR\n",
      "Cohort ethnicity_Black\n",
      "Cohort ethnicity_Caucasian\n",
      "Cohort ethnicity_Diverse\n",
      "Cohort ethnicity_Mongol\n",
      "Cohort ethnicity\n",
      "No_ADR\n",
      "Yes_ADR\n",
      "0\n",
      "1\n",
      "2\n",
      "3\n",
      "4\n",
      "11\n",
      "20\n",
      "23\n",
      "30\n",
      "74\n",
      "80\n",
      "86\n",
      "122\n",
      "123\n",
      "130\n",
      "140\n",
      "151\n",
      "162\n",
      "175\n",
      "191\n",
      "204\n",
      "207\n",
      "245\n",
      "248\n",
      "264\n",
      "294\n",
      "297\n",
      "300\n",
      "314\n",
      "315\n",
      "319\n",
      "323\n",
      "333\n",
      "336\n",
      "338\n",
      "350\n",
      "352\n",
      "366\n",
      "371\n",
      "378\n",
      "381\n",
      "389\n",
      "405\n",
      "409\n",
      "426\n",
      "428\n",
      "435\n",
      "448\n",
      "456\n",
      "461\n",
      "469\n",
      "470\n",
      "485\n",
      "486\n",
      "501\n",
      "502\n",
      "511\n",
      "527\n",
      "530\n",
      "535\n",
      "547\n",
      "554\n",
      "556\n",
      "561\n",
      "588\n",
      "600\n",
      "609\n",
      "623\n",
      "624\n",
      "631\n",
      "637\n",
      "650\n",
      "656\n",
      "675\n",
      "679\n",
      "694\n",
      "713\n",
      "715\n",
      "725\n",
      "739\n",
      "745\n",
      "750\n",
      "751\n",
      "764\n",
      "770\n",
      "772\n",
      "780\n",
      "787\n",
      "794\n",
      "798\n",
      "806\n",
      "807\n",
      "833\n",
      "834\n",
      "843\n",
      "849\n",
      "872\n",
      "875\n",
      "882\n",
      "883\n",
      "884\n",
      "888\n",
      "926\n",
      "935\n",
      "952\n",
      "974\n",
      "984\n",
      "987\n",
      "990\n",
      "993\n",
      "1011\n",
      "1017\n",
      "1019\n",
      "1028\n",
      "1039\n",
      "1043\n",
      "1044\n",
      "1055\n",
      "1057\n",
      "1060\n",
      "1066\n",
      "1070\n",
      "1077\n",
      "1088\n",
      "1097\n",
      "1098\n",
      "1099\n",
      "1102\n",
      "1105\n",
      "1114\n",
      "1120\n",
      "1130\n",
      "1137\n",
      "1138\n",
      "1142\n",
      "1145\n",
      "1148\n",
      "1152\n",
      "1153\n",
      "1155\n",
      "1164\n",
      "1168\n",
      "1171\n",
      "1182\n",
      "1184\n",
      "1199\n",
      "1212\n",
      "1236\n",
      "1242\n",
      "1267\n",
      "1269\n",
      "1270\n",
      "1292\n",
      "1295\n",
      "1312\n",
      "1313\n",
      "1318\n",
      "1325\n",
      "1340\n",
      "1347\n",
      "1351\n",
      "1357\n",
      "1380\n",
      "1389\n",
      "1391\n",
      "1398\n",
      "1426\n",
      "1428\n",
      "1434\n",
      "1446\n",
      "1448\n",
      "1449\n",
      "1452\n",
      "1457\n",
      "1459\n",
      "1464\n",
      "1476\n",
      "1480\n",
      "1498\n",
      "1528\n",
      "1535\n",
      "1542\n",
      "1544\n",
      "1564\n",
      "1578\n",
      "1585\n",
      "1589\n",
      "1602\n",
      "1607\n",
      "1646\n",
      "1647\n",
      "1657\n",
      "1675\n",
      "1683\n",
      "1708\n",
      "1722\n",
      "1738\n",
      "1739\n",
      "1742\n",
      "1750\n",
      "1778\n",
      "1786\n",
      "1803\n",
      "1804\n",
      "1816\n",
      "1821\n",
      "1824\n",
      "1832\n",
      "1844\n",
      "1855\n",
      "1864\n",
      "1866\n",
      "1873\n",
      "1877\n",
      "1886\n",
      "1905\n",
      "1910\n",
      "1917\n",
      "1920\n",
      "1922\n",
      "1948\n",
      "1956\n",
      "1964\n",
      "1974\n",
      "1977\n",
      "1985\n",
      "2012\n",
      "2039\n",
      "2043\n",
      "p1-7-I\n",
      "p1-7-V\n",
      "p1-11-E\n",
      "p1-11-G\n",
      "p1-11-R\n",
      "p1-17-E\n",
      "p1-17-G\n",
      "p1-17-L\n",
      "p1-17-Q\n",
      "p1-17-R\n",
      "p1-18-E\n",
      "p1-18-N\n",
      "p1-18-Q\n",
      "p1-20-G\n",
      "p1-20-Q\n",
      "p1-20-R\n",
      "p1-22-I\n",
      "p1-22-K\n",
      "p1-22-N\n",
      "p1-23-C\n",
      "p1-23-F\n",
      "p1-23-M\n",
      "p1-23-S\n",
      "p1-23-V\n",
      "p1-23-Y\n",
      "p1-25-A\n",
      "p1-25-R\n",
      "p1-25-T\n",
      "p1-26-H\n",
      "p1-26-K\n",
      "p1-26-N\n",
      "p1-26-Q\n",
      "p1-26-S\n",
      "p1-27-A\n",
      "p1-27-S\n",
      "p1-27-T\n",
      "p1-29-A\n",
      "p1-29-I\n",
      "p1-29-T\n",
      "p1-30-D\n",
      "p1-30-G\n",
      "p1-30-H\n",
      "p1-30-N\n",
      "p1-30-Y\n",
      "p1-32-A\n",
      "p1-32-E\n",
      "p1-32-V\n",
      "p1-33-D\n",
      "p1-33-G\n",
      "p1-33-N\n",
      "p1-33-S\n",
      "p1-35-G\n",
      "p1-35-R\n",
      "p1-36--\n",
      "p1-36-I\n",
      "p1-37-A\n",
      "p1-37-I\n",
      "p1-37-K\n",
      "p1-37-N\n",
      "p1-37-T\n",
      "p1-38-A\n",
      "p1-38-L\n",
      "p1-39-L\n",
      "p1-39-R\n",
      "p1-40--\n",
      "p1-40-G\n",
      "p1-40-R\n",
      "p2-2-I\n",
      "p2-2-T\n",
      "p2-3-S\n",
      "p2-3-T\n",
      "p2-4-K\n",
      "p2-4-Q\n",
      "p2-5-H\n",
      "p2-5-L\n",
      "p2-5-R\n",
      "p2-7-L\n",
      "p2-7-W\n",
      "p2-9-A\n",
      "p2-9-T\n",
      "p2-10-A\n",
      "p2-10-V\n",
      "p2-11-H\n",
      "p2-11-R\n",
      "p2-12-A\n",
      "p2-12-E\n",
      "p2-12-R\n",
      "p2-12-V\n",
      "p2-12-W\n",
      "p2-16-D\n",
      "p2-16-L\n",
      "p2-16-Q\n",
      "p2-16-R\n",
      "p2-16-W\n",
      "p2-18-A\n",
      "p2-18-T\n",
      "p2-18-V\n",
      "p2-33-D\n",
      "p2-33-E\n",
      "p2-35-E\n",
      "p2-35-L\n",
      "p2-35-R\n",
      "p2-35-T\n",
      "p2-38-D\n",
      "p2-38-E\n",
      "p2-39-G\n",
      "p2-39-S\n",
      "p2-39-W\n",
      "p2-43-H\n",
      "p2-43-Y\n",
      "p2-48-E\n",
      "p2-48-K\n",
      "p2-52-D\n",
      "p2-52-E\n",
      "p2-52-K\n",
      "p2-53-K\n",
      "p2-53-T\n"
     ]
    }
   ],
   "source": [
    "# check ของแปลกที่หลุดเข้ามา\n",
    "for x in df.columns:\n",
    "    print(x)"
   ]
  },
  {
   "cell_type": "code",
   "execution_count": 71,
   "metadata": {},
   "outputs": [
    {
     "data": {
      "text/plain": [
       "SJS            5805\n",
       "TEN            3738\n",
       "MPexanthema    3530\n",
       "Name: ADR, dtype: int64"
      ]
     },
     "execution_count": 71,
     "metadata": {},
     "output_type": "execute_result"
    }
   ],
   "source": [
    "df['ADR'].value_counts()"
   ]
  },
  {
   "cell_type": "code",
   "execution_count": 72,
   "metadata": {},
   "outputs": [],
   "source": [
    "# Drop unnecessary columns\n",
    "df_stratify = pd.DataFrame()\n",
    "df['ADR'] = df['ADR'].replace({'SJS': 0, 'TEN': 1, 'MPexanthema':2})#,'MPeruption':3})\n",
    "#df = df[df['ADR'].isin([0,1])] #ลบ MP ออก\n",
    "#df_stratify['Yes_ADR'] = df['ADR'].copy()\n",
    "#df_stratify = df_stratify.rename(columns={'Yes_ADR':'ADR'})\n",
    "df.drop(columns=['No_ADR','ADR','ADR_MPexanthema','ADR_SJS','ADR_TEN','Cohort ethnicity','Allele','Drug'], inplace=True) #'MPeruption' removed"
   ]
  },
  {
   "cell_type": "code",
   "execution_count": 73,
   "metadata": {},
   "outputs": [
    {
     "data": {
      "text/plain": [
       "int64    350\n",
       "dtype: int64"
      ]
     },
     "execution_count": 73,
     "metadata": {},
     "output_type": "execute_result"
    }
   ],
   "source": [
    "# Select output columns and drop unnecessary columns\n",
    "df_output = df['Yes_ADR'].copy()\n",
    "df.drop(columns = ['Yes_ADR'], inplace = True)\n",
    "df_input = df.copy()\n",
    "# Check input dtypes\n",
    "df_input.dtypes.value_counts()"
   ]
  },
  {
   "cell_type": "code",
   "execution_count": 74,
   "metadata": {},
   "outputs": [
    {
     "data": {
      "text/plain": [
       "0        1.0\n",
       "1        1.0\n",
       "2        1.0\n",
       "3        1.0\n",
       "4        1.0\n",
       "        ... \n",
       "13068    0.0\n",
       "13069    0.0\n",
       "13070    0.0\n",
       "13071    0.0\n",
       "13072    0.0\n",
       "Name: Yes_ADR, Length: 13073, dtype: float64"
      ]
     },
     "execution_count": 74,
     "metadata": {},
     "output_type": "execute_result"
    }
   ],
   "source": [
    "# check ของแปลกที่หลุดเข้ามา\n",
    "df_output"
   ]
  },
  {
   "cell_type": "code",
   "execution_count": 75,
   "metadata": {},
   "outputs": [
    {
     "name": "stdout",
     "output_type": "stream",
     "text": [
      "Cohort ethnicity_Black\n",
      "Cohort ethnicity_Caucasian\n",
      "Cohort ethnicity_Diverse\n",
      "Cohort ethnicity_Mongol\n",
      "0\n",
      "1\n",
      "2\n",
      "3\n",
      "4\n",
      "11\n",
      "20\n",
      "23\n",
      "30\n",
      "74\n",
      "80\n",
      "86\n",
      "122\n",
      "123\n",
      "130\n",
      "140\n",
      "151\n",
      "162\n",
      "175\n",
      "191\n",
      "204\n",
      "207\n",
      "245\n",
      "248\n",
      "264\n",
      "294\n",
      "297\n",
      "300\n",
      "314\n",
      "315\n",
      "319\n",
      "323\n",
      "333\n",
      "336\n",
      "338\n",
      "350\n",
      "352\n",
      "366\n",
      "371\n",
      "378\n",
      "381\n",
      "389\n",
      "405\n",
      "409\n",
      "426\n",
      "428\n",
      "435\n",
      "448\n",
      "456\n",
      "461\n",
      "469\n",
      "470\n",
      "485\n",
      "486\n",
      "501\n",
      "502\n",
      "511\n",
      "527\n",
      "530\n",
      "535\n",
      "547\n",
      "554\n",
      "556\n",
      "561\n",
      "588\n",
      "600\n",
      "609\n",
      "623\n",
      "624\n",
      "631\n",
      "637\n",
      "650\n",
      "656\n",
      "675\n",
      "679\n",
      "694\n",
      "713\n",
      "715\n",
      "725\n",
      "739\n",
      "745\n",
      "750\n",
      "751\n",
      "764\n",
      "770\n",
      "772\n",
      "780\n",
      "787\n",
      "794\n",
      "798\n",
      "806\n",
      "807\n",
      "833\n",
      "834\n",
      "843\n",
      "849\n",
      "872\n",
      "875\n",
      "882\n",
      "883\n",
      "884\n",
      "888\n",
      "926\n",
      "935\n",
      "952\n",
      "974\n",
      "984\n",
      "987\n",
      "990\n",
      "993\n",
      "1011\n",
      "1017\n",
      "1019\n",
      "1028\n",
      "1039\n",
      "1043\n",
      "1044\n",
      "1055\n",
      "1057\n",
      "1060\n",
      "1066\n",
      "1070\n",
      "1077\n",
      "1088\n",
      "1097\n",
      "1098\n",
      "1099\n",
      "1102\n",
      "1105\n",
      "1114\n",
      "1120\n",
      "1130\n",
      "1137\n",
      "1138\n",
      "1142\n",
      "1145\n",
      "1148\n",
      "1152\n",
      "1153\n",
      "1155\n",
      "1164\n",
      "1168\n",
      "1171\n",
      "1182\n",
      "1184\n",
      "1199\n",
      "1212\n",
      "1236\n",
      "1242\n",
      "1267\n",
      "1269\n",
      "1270\n",
      "1292\n",
      "1295\n",
      "1312\n",
      "1313\n",
      "1318\n",
      "1325\n",
      "1340\n",
      "1347\n",
      "1351\n",
      "1357\n",
      "1380\n",
      "1389\n",
      "1391\n",
      "1398\n",
      "1426\n",
      "1428\n",
      "1434\n",
      "1446\n",
      "1448\n",
      "1449\n",
      "1452\n",
      "1457\n",
      "1459\n",
      "1464\n",
      "1476\n",
      "1480\n",
      "1498\n",
      "1528\n",
      "1535\n",
      "1542\n",
      "1544\n",
      "1564\n",
      "1578\n",
      "1585\n",
      "1589\n",
      "1602\n",
      "1607\n",
      "1646\n",
      "1647\n",
      "1657\n",
      "1675\n",
      "1683\n",
      "1708\n",
      "1722\n",
      "1738\n",
      "1739\n",
      "1742\n",
      "1750\n",
      "1778\n",
      "1786\n",
      "1803\n",
      "1804\n",
      "1816\n",
      "1821\n",
      "1824\n",
      "1832\n",
      "1844\n",
      "1855\n",
      "1864\n",
      "1866\n",
      "1873\n",
      "1877\n",
      "1886\n",
      "1905\n",
      "1910\n",
      "1917\n",
      "1920\n",
      "1922\n",
      "1948\n",
      "1956\n",
      "1964\n",
      "1974\n",
      "1977\n",
      "1985\n",
      "2012\n",
      "2039\n",
      "2043\n",
      "p1-7-I\n",
      "p1-7-V\n",
      "p1-11-E\n",
      "p1-11-G\n",
      "p1-11-R\n",
      "p1-17-E\n",
      "p1-17-G\n",
      "p1-17-L\n",
      "p1-17-Q\n",
      "p1-17-R\n",
      "p1-18-E\n",
      "p1-18-N\n",
      "p1-18-Q\n",
      "p1-20-G\n",
      "p1-20-Q\n",
      "p1-20-R\n",
      "p1-22-I\n",
      "p1-22-K\n",
      "p1-22-N\n",
      "p1-23-C\n",
      "p1-23-F\n",
      "p1-23-M\n",
      "p1-23-S\n",
      "p1-23-V\n",
      "p1-23-Y\n",
      "p1-25-A\n",
      "p1-25-R\n",
      "p1-25-T\n",
      "p1-26-H\n",
      "p1-26-K\n",
      "p1-26-N\n",
      "p1-26-Q\n",
      "p1-26-S\n",
      "p1-27-A\n",
      "p1-27-S\n",
      "p1-27-T\n",
      "p1-29-A\n",
      "p1-29-I\n",
      "p1-29-T\n",
      "p1-30-D\n",
      "p1-30-G\n",
      "p1-30-H\n",
      "p1-30-N\n",
      "p1-30-Y\n",
      "p1-32-A\n",
      "p1-32-E\n",
      "p1-32-V\n",
      "p1-33-D\n",
      "p1-33-G\n",
      "p1-33-N\n",
      "p1-33-S\n",
      "p1-35-G\n",
      "p1-35-R\n",
      "p1-36--\n",
      "p1-36-I\n",
      "p1-37-A\n",
      "p1-37-I\n",
      "p1-37-K\n",
      "p1-37-N\n",
      "p1-37-T\n",
      "p1-38-A\n",
      "p1-38-L\n",
      "p1-39-L\n",
      "p1-39-R\n",
      "p1-40--\n",
      "p1-40-G\n",
      "p1-40-R\n",
      "p2-2-I\n",
      "p2-2-T\n",
      "p2-3-S\n",
      "p2-3-T\n",
      "p2-4-K\n",
      "p2-4-Q\n",
      "p2-5-H\n",
      "p2-5-L\n",
      "p2-5-R\n",
      "p2-7-L\n",
      "p2-7-W\n",
      "p2-9-A\n",
      "p2-9-T\n",
      "p2-10-A\n",
      "p2-10-V\n",
      "p2-11-H\n",
      "p2-11-R\n",
      "p2-12-A\n",
      "p2-12-E\n",
      "p2-12-R\n",
      "p2-12-V\n",
      "p2-12-W\n",
      "p2-16-D\n",
      "p2-16-L\n",
      "p2-16-Q\n",
      "p2-16-R\n",
      "p2-16-W\n",
      "p2-18-A\n",
      "p2-18-T\n",
      "p2-18-V\n",
      "p2-33-D\n",
      "p2-33-E\n",
      "p2-35-E\n",
      "p2-35-L\n",
      "p2-35-R\n",
      "p2-35-T\n",
      "p2-38-D\n",
      "p2-38-E\n",
      "p2-39-G\n",
      "p2-39-S\n",
      "p2-39-W\n",
      "p2-43-H\n",
      "p2-43-Y\n",
      "p2-48-E\n",
      "p2-48-K\n",
      "p2-52-D\n",
      "p2-52-E\n",
      "p2-52-K\n",
      "p2-53-K\n",
      "p2-53-T\n"
     ]
    }
   ],
   "source": [
    "# check ของแปลกที่หลุดเข้ามา\n",
    "for x in df_input.columns:\n",
    "    print(x)"
   ]
  },
  {
   "cell_type": "code",
   "execution_count": 76,
   "metadata": {},
   "outputs": [
    {
     "data": {
      "text/html": [
       "<div>\n",
       "<style scoped>\n",
       "    .dataframe tbody tr th:only-of-type {\n",
       "        vertical-align: middle;\n",
       "    }\n",
       "\n",
       "    .dataframe tbody tr th {\n",
       "        vertical-align: top;\n",
       "    }\n",
       "\n",
       "    .dataframe thead th {\n",
       "        text-align: right;\n",
       "    }\n",
       "</style>\n",
       "<table border=\"1\" class=\"dataframe\">\n",
       "  <thead>\n",
       "    <tr style=\"text-align: right;\">\n",
       "      <th></th>\n",
       "      <th>Cohort ethnicity_Black</th>\n",
       "      <th>Cohort ethnicity_Caucasian</th>\n",
       "      <th>Cohort ethnicity_Diverse</th>\n",
       "      <th>Cohort ethnicity_Mongol</th>\n",
       "      <th>0</th>\n",
       "      <th>1</th>\n",
       "      <th>2</th>\n",
       "      <th>3</th>\n",
       "      <th>4</th>\n",
       "      <th>11</th>\n",
       "      <th>...</th>\n",
       "      <th>p2-39-W</th>\n",
       "      <th>p2-43-H</th>\n",
       "      <th>p2-43-Y</th>\n",
       "      <th>p2-48-E</th>\n",
       "      <th>p2-48-K</th>\n",
       "      <th>p2-52-D</th>\n",
       "      <th>p2-52-E</th>\n",
       "      <th>p2-52-K</th>\n",
       "      <th>p2-53-K</th>\n",
       "      <th>p2-53-T</th>\n",
       "    </tr>\n",
       "  </thead>\n",
       "  <tbody>\n",
       "    <tr>\n",
       "      <th>0</th>\n",
       "      <td>0</td>\n",
       "      <td>0</td>\n",
       "      <td>1</td>\n",
       "      <td>0</td>\n",
       "      <td>0</td>\n",
       "      <td>0</td>\n",
       "      <td>0</td>\n",
       "      <td>0</td>\n",
       "      <td>0</td>\n",
       "      <td>0</td>\n",
       "      <td>...</td>\n",
       "      <td>1</td>\n",
       "      <td>0</td>\n",
       "      <td>1</td>\n",
       "      <td>1</td>\n",
       "      <td>0</td>\n",
       "      <td>0</td>\n",
       "      <td>1</td>\n",
       "      <td>0</td>\n",
       "      <td>0</td>\n",
       "      <td>1</td>\n",
       "    </tr>\n",
       "    <tr>\n",
       "      <th>1</th>\n",
       "      <td>0</td>\n",
       "      <td>0</td>\n",
       "      <td>1</td>\n",
       "      <td>0</td>\n",
       "      <td>0</td>\n",
       "      <td>0</td>\n",
       "      <td>0</td>\n",
       "      <td>0</td>\n",
       "      <td>0</td>\n",
       "      <td>0</td>\n",
       "      <td>...</td>\n",
       "      <td>1</td>\n",
       "      <td>0</td>\n",
       "      <td>1</td>\n",
       "      <td>1</td>\n",
       "      <td>0</td>\n",
       "      <td>0</td>\n",
       "      <td>1</td>\n",
       "      <td>0</td>\n",
       "      <td>0</td>\n",
       "      <td>1</td>\n",
       "    </tr>\n",
       "    <tr>\n",
       "      <th>2</th>\n",
       "      <td>0</td>\n",
       "      <td>0</td>\n",
       "      <td>1</td>\n",
       "      <td>0</td>\n",
       "      <td>0</td>\n",
       "      <td>0</td>\n",
       "      <td>0</td>\n",
       "      <td>0</td>\n",
       "      <td>0</td>\n",
       "      <td>0</td>\n",
       "      <td>...</td>\n",
       "      <td>1</td>\n",
       "      <td>0</td>\n",
       "      <td>1</td>\n",
       "      <td>1</td>\n",
       "      <td>0</td>\n",
       "      <td>0</td>\n",
       "      <td>1</td>\n",
       "      <td>0</td>\n",
       "      <td>0</td>\n",
       "      <td>1</td>\n",
       "    </tr>\n",
       "    <tr>\n",
       "      <th>3</th>\n",
       "      <td>0</td>\n",
       "      <td>0</td>\n",
       "      <td>0</td>\n",
       "      <td>1</td>\n",
       "      <td>0</td>\n",
       "      <td>0</td>\n",
       "      <td>0</td>\n",
       "      <td>0</td>\n",
       "      <td>0</td>\n",
       "      <td>0</td>\n",
       "      <td>...</td>\n",
       "      <td>1</td>\n",
       "      <td>0</td>\n",
       "      <td>1</td>\n",
       "      <td>1</td>\n",
       "      <td>0</td>\n",
       "      <td>0</td>\n",
       "      <td>1</td>\n",
       "      <td>0</td>\n",
       "      <td>0</td>\n",
       "      <td>1</td>\n",
       "    </tr>\n",
       "    <tr>\n",
       "      <th>4</th>\n",
       "      <td>0</td>\n",
       "      <td>0</td>\n",
       "      <td>0</td>\n",
       "      <td>1</td>\n",
       "      <td>0</td>\n",
       "      <td>0</td>\n",
       "      <td>0</td>\n",
       "      <td>0</td>\n",
       "      <td>0</td>\n",
       "      <td>0</td>\n",
       "      <td>...</td>\n",
       "      <td>1</td>\n",
       "      <td>0</td>\n",
       "      <td>1</td>\n",
       "      <td>1</td>\n",
       "      <td>0</td>\n",
       "      <td>0</td>\n",
       "      <td>1</td>\n",
       "      <td>0</td>\n",
       "      <td>0</td>\n",
       "      <td>1</td>\n",
       "    </tr>\n",
       "    <tr>\n",
       "      <th>...</th>\n",
       "      <td>...</td>\n",
       "      <td>...</td>\n",
       "      <td>...</td>\n",
       "      <td>...</td>\n",
       "      <td>...</td>\n",
       "      <td>...</td>\n",
       "      <td>...</td>\n",
       "      <td>...</td>\n",
       "      <td>...</td>\n",
       "      <td>...</td>\n",
       "      <td>...</td>\n",
       "      <td>...</td>\n",
       "      <td>...</td>\n",
       "      <td>...</td>\n",
       "      <td>...</td>\n",
       "      <td>...</td>\n",
       "      <td>...</td>\n",
       "      <td>...</td>\n",
       "      <td>...</td>\n",
       "      <td>...</td>\n",
       "      <td>...</td>\n",
       "    </tr>\n",
       "    <tr>\n",
       "      <th>13068</th>\n",
       "      <td>0</td>\n",
       "      <td>0</td>\n",
       "      <td>0</td>\n",
       "      <td>1</td>\n",
       "      <td>0</td>\n",
       "      <td>0</td>\n",
       "      <td>0</td>\n",
       "      <td>0</td>\n",
       "      <td>0</td>\n",
       "      <td>0</td>\n",
       "      <td>...</td>\n",
       "      <td>1</td>\n",
       "      <td>0</td>\n",
       "      <td>1</td>\n",
       "      <td>1</td>\n",
       "      <td>0</td>\n",
       "      <td>0</td>\n",
       "      <td>1</td>\n",
       "      <td>0</td>\n",
       "      <td>0</td>\n",
       "      <td>1</td>\n",
       "    </tr>\n",
       "    <tr>\n",
       "      <th>13069</th>\n",
       "      <td>0</td>\n",
       "      <td>0</td>\n",
       "      <td>0</td>\n",
       "      <td>1</td>\n",
       "      <td>0</td>\n",
       "      <td>0</td>\n",
       "      <td>0</td>\n",
       "      <td>0</td>\n",
       "      <td>0</td>\n",
       "      <td>0</td>\n",
       "      <td>...</td>\n",
       "      <td>1</td>\n",
       "      <td>0</td>\n",
       "      <td>1</td>\n",
       "      <td>1</td>\n",
       "      <td>0</td>\n",
       "      <td>0</td>\n",
       "      <td>1</td>\n",
       "      <td>0</td>\n",
       "      <td>0</td>\n",
       "      <td>1</td>\n",
       "    </tr>\n",
       "    <tr>\n",
       "      <th>13070</th>\n",
       "      <td>0</td>\n",
       "      <td>0</td>\n",
       "      <td>0</td>\n",
       "      <td>1</td>\n",
       "      <td>0</td>\n",
       "      <td>0</td>\n",
       "      <td>0</td>\n",
       "      <td>0</td>\n",
       "      <td>0</td>\n",
       "      <td>0</td>\n",
       "      <td>...</td>\n",
       "      <td>1</td>\n",
       "      <td>0</td>\n",
       "      <td>1</td>\n",
       "      <td>1</td>\n",
       "      <td>0</td>\n",
       "      <td>0</td>\n",
       "      <td>1</td>\n",
       "      <td>0</td>\n",
       "      <td>0</td>\n",
       "      <td>1</td>\n",
       "    </tr>\n",
       "    <tr>\n",
       "      <th>13071</th>\n",
       "      <td>0</td>\n",
       "      <td>0</td>\n",
       "      <td>0</td>\n",
       "      <td>1</td>\n",
       "      <td>0</td>\n",
       "      <td>0</td>\n",
       "      <td>0</td>\n",
       "      <td>0</td>\n",
       "      <td>0</td>\n",
       "      <td>0</td>\n",
       "      <td>...</td>\n",
       "      <td>1</td>\n",
       "      <td>1</td>\n",
       "      <td>0</td>\n",
       "      <td>1</td>\n",
       "      <td>0</td>\n",
       "      <td>0</td>\n",
       "      <td>1</td>\n",
       "      <td>0</td>\n",
       "      <td>0</td>\n",
       "      <td>1</td>\n",
       "    </tr>\n",
       "    <tr>\n",
       "      <th>13072</th>\n",
       "      <td>0</td>\n",
       "      <td>0</td>\n",
       "      <td>0</td>\n",
       "      <td>1</td>\n",
       "      <td>0</td>\n",
       "      <td>0</td>\n",
       "      <td>0</td>\n",
       "      <td>0</td>\n",
       "      <td>0</td>\n",
       "      <td>0</td>\n",
       "      <td>...</td>\n",
       "      <td>1</td>\n",
       "      <td>0</td>\n",
       "      <td>1</td>\n",
       "      <td>1</td>\n",
       "      <td>0</td>\n",
       "      <td>0</td>\n",
       "      <td>1</td>\n",
       "      <td>0</td>\n",
       "      <td>0</td>\n",
       "      <td>1</td>\n",
       "    </tr>\n",
       "  </tbody>\n",
       "</table>\n",
       "<p>13073 rows × 350 columns</p>\n",
       "</div>"
      ],
      "text/plain": [
       "       Cohort ethnicity_Black  Cohort ethnicity_Caucasian  \\\n",
       "0                           0                           0   \n",
       "1                           0                           0   \n",
       "2                           0                           0   \n",
       "3                           0                           0   \n",
       "4                           0                           0   \n",
       "...                       ...                         ...   \n",
       "13068                       0                           0   \n",
       "13069                       0                           0   \n",
       "13070                       0                           0   \n",
       "13071                       0                           0   \n",
       "13072                       0                           0   \n",
       "\n",
       "       Cohort ethnicity_Diverse  Cohort ethnicity_Mongol  0  1  2  3  4  11  \\\n",
       "0                             1                        0  0  0  0  0  0   0   \n",
       "1                             1                        0  0  0  0  0  0   0   \n",
       "2                             1                        0  0  0  0  0  0   0   \n",
       "3                             0                        1  0  0  0  0  0   0   \n",
       "4                             0                        1  0  0  0  0  0   0   \n",
       "...                         ...                      ... .. .. .. .. ..  ..   \n",
       "13068                         0                        1  0  0  0  0  0   0   \n",
       "13069                         0                        1  0  0  0  0  0   0   \n",
       "13070                         0                        1  0  0  0  0  0   0   \n",
       "13071                         0                        1  0  0  0  0  0   0   \n",
       "13072                         0                        1  0  0  0  0  0   0   \n",
       "\n",
       "       ...  p2-39-W  p2-43-H  p2-43-Y  p2-48-E  p2-48-K  p2-52-D  p2-52-E  \\\n",
       "0      ...        1        0        1        1        0        0        1   \n",
       "1      ...        1        0        1        1        0        0        1   \n",
       "2      ...        1        0        1        1        0        0        1   \n",
       "3      ...        1        0        1        1        0        0        1   \n",
       "4      ...        1        0        1        1        0        0        1   \n",
       "...    ...      ...      ...      ...      ...      ...      ...      ...   \n",
       "13068  ...        1        0        1        1        0        0        1   \n",
       "13069  ...        1        0        1        1        0        0        1   \n",
       "13070  ...        1        0        1        1        0        0        1   \n",
       "13071  ...        1        1        0        1        0        0        1   \n",
       "13072  ...        1        0        1        1        0        0        1   \n",
       "\n",
       "       p2-52-K  p2-53-K  p2-53-T  \n",
       "0            0        0        1  \n",
       "1            0        0        1  \n",
       "2            0        0        1  \n",
       "3            0        0        1  \n",
       "4            0        0        1  \n",
       "...        ...      ...      ...  \n",
       "13068        0        0        1  \n",
       "13069        0        0        1  \n",
       "13070        0        0        1  \n",
       "13071        0        0        1  \n",
       "13072        0        0        1  \n",
       "\n",
       "[13073 rows x 350 columns]"
      ]
     },
     "execution_count": 76,
     "metadata": {},
     "output_type": "execute_result"
    }
   ],
   "source": [
    "df"
   ]
  },
  {
   "cell_type": "code",
   "execution_count": 77,
   "metadata": {},
   "outputs": [],
   "source": [
    "# # Change all input dtypes to float64\n",
    "# df_input = df_input.astype('float64')\n",
    "# df_input.dtypes.value_counts()"
   ]
  },
  {
   "cell_type": "code",
   "execution_count": 78,
   "metadata": {},
   "outputs": [],
   "source": [
    "# Convert to numpy array\n",
    "np_input = df_input.to_numpy()\n",
    "np_output = df_output.to_numpy()\n",
    "np_stratify = df_stratify.to_numpy()"
   ]
  },
  {
   "cell_type": "code",
   "execution_count": 79,
   "metadata": {},
   "outputs": [
    {
     "data": {
      "text/plain": [
       "Series([], dtype: int64)"
      ]
     },
     "execution_count": 79,
     "metadata": {},
     "output_type": "execute_result"
    }
   ],
   "source": [
    "pd.DataFrame(np_stratify).value_counts()"
   ]
  },
  {
   "cell_type": "code",
   "execution_count": 80,
   "metadata": {},
   "outputs": [
    {
     "data": {
      "text/plain": [
       "array([[0, 0, 1, ..., 0, 0, 1],\n",
       "       [0, 0, 1, ..., 0, 0, 1],\n",
       "       [0, 0, 1, ..., 0, 0, 1],\n",
       "       ...,\n",
       "       [0, 0, 0, ..., 0, 0, 1],\n",
       "       [0, 0, 0, ..., 0, 0, 1],\n",
       "       [0, 0, 0, ..., 0, 0, 1]], dtype=int64)"
      ]
     },
     "execution_count": 80,
     "metadata": {},
     "output_type": "execute_result"
    }
   ],
   "source": [
    "np_input    "
   ]
  },
  {
   "cell_type": "code",
   "execution_count": 81,
   "metadata": {},
   "outputs": [],
   "source": [
    "# Function to check dataloader classes distribution\n",
    "def get_dataloader_distribution(*args):\n",
    "    graph_no = len(args)\n",
    "    fig, ax = plt.subplots(graph_no,1)\n",
    "    \n",
    "    for index, dataloader in enumerate(args):\n",
    "        batch_no = [x+1 for x in range(len(dataloader))]\n",
    "        class_0_count = []\n",
    "        class_1_count = []\n",
    "        batch_count = []\n",
    "\n",
    "        for i, (data,target) in enumerate(dataloader):\n",
    "            tocount = pd.DataFrame(target.numpy()).value_counts()\n",
    "            batch_count.append(i+1)\n",
    "            class_0_count.append(tocount[0.0])\n",
    "            class_1_count.append(tocount[1.0])\n",
    "\n",
    "        X_axis = np.arange(len(batch_count))\n",
    "\n",
    "        \n",
    "        fig.set_figwidth(15)\n",
    "        fig.set_figheight(10)\n",
    "        ax[index].set_xlabel=\"Batch Number\"\n",
    "        ax[index].set_ylabel=\"No. Datapoints\"\n",
    "        ax[index].bar(X_axis,class_0_count,width=(1/3) ,label = \"NoADR\",color='green',alpha=0.5)\n",
    "        ax[index].bar(X_axis+(1/3),class_1_count,width=(1/3), label = 'ADR',color='red',alpha=0.5)\n",
    "        #ax.set_xticks(X_axis+width)\n",
    "        ax[index].legend()\n",
    "\n",
    "        ax[index].set_title(f\"{dataloader} Data Distribution\")\n",
    "    fig.show()"
   ]
  },
  {
   "cell_type": "code",
   "execution_count": 82,
   "metadata": {
    "tags": []
   },
   "outputs": [],
   "source": [
    "# Define the model hyperparameters\n",
    "classes = 1\n",
    "batch_size = 128 \n",
    "LEARNING_RATE = 2e-5 \n",
    "DROPOUT_RATE = 0.2\n",
    "L2lambda = 1e-2\n",
    "EPOCHS = 1000\n",
    "DIR = os.getcwd()\n",
    "dirname = \"optuna_study6(wide_final)\" \n",
    "#train_loader, test_loader = get_dataloaders(batch_size)\n",
    "loss_fn = nn.BCELoss() \n",
    "#get_dataloader_distribution(train_loader,test_loader)"
   ]
  },
  {
   "cell_type": "code",
   "execution_count": 83,
   "metadata": {},
   "outputs": [],
   "source": [
    "device = torch.device(\"cuda\" if torch.cuda.is_available() else \"cpu\")"
   ]
  },
  {
   "cell_type": "code",
   "execution_count": 84,
   "metadata": {},
   "outputs": [
    {
     "data": {
      "text/plain": [
       "RecursiveScriptModule(\n",
       "  original_name=Network\n",
       "  (layers): RecursiveScriptModule(\n",
       "    original_name=Sequential\n",
       "    (0): RecursiveScriptModule(original_name=Linear)\n",
       "    (1): RecursiveScriptModule(original_name=ReLU)\n",
       "    (2): RecursiveScriptModule(original_name=Dropout)\n",
       "    (3): RecursiveScriptModule(original_name=Linear)\n",
       "    (4): RecursiveScriptModule(original_name=ReLU)\n",
       "    (5): RecursiveScriptModule(original_name=Dropout)\n",
       "    (6): RecursiveScriptModule(original_name=Linear)\n",
       "    (7): RecursiveScriptModule(original_name=ReLU)\n",
       "    (8): RecursiveScriptModule(original_name=Dropout)\n",
       "    (9): RecursiveScriptModule(original_name=Linear)\n",
       "    (10): RecursiveScriptModule(original_name=ReLU)\n",
       "    (11): RecursiveScriptModule(original_name=Dropout)\n",
       "    (12): RecursiveScriptModule(original_name=Linear)\n",
       "    (13): RecursiveScriptModule(original_name=Sigmoid)\n",
       "  )\n",
       ")"
      ]
     },
     "execution_count": 84,
     "metadata": {},
     "output_type": "execute_result"
    }
   ],
   "source": [
    "model2 = torch.jit.load('../4 - Training & Testing/final/final').to('cuda').to(device)\n",
    "model2.eval()\n",
    "\n",
    "# Create Weight for Sampler\n",
    "weight = (1/pd.DataFrame(np_output).value_counts()).tolist()\n",
    "sample_weights = np.array([weight[int(t)] for t in np_output])\n",
    "\n",
    "# Create Sampler\n",
    "sampler = WeightedRandomSampler(weights=sample_weights,num_samples=len(sample_weights), replacement=True)\n",
    "#train_sampler = RandomSampler(np_fold_train_output) #RandomSampler จะทำให้เห็นว่า class มัน imbalance ยังไง\n",
    "\n",
    "# Create Dataset and Dataloader\n",
    "train_dataset = TensorDataset(torch.from_numpy(np_input).float(), torch.from_numpy(np_output).float())\n",
    "#test_dataset = TensorDataset(torch.from_numpy(np_fold_test_input).float(), torch.from_numpy(np_fold_test_output).float())\n",
    "train_loader = DataLoader(train_dataset, batch_size=np_input.shape[0])# , sampler=sampler)\n",
    "\n",
    "model2"
   ]
  },
  {
   "attachments": {},
   "cell_type": "markdown",
   "metadata": {},
   "source": [
    "## ตรวจสอบความถูกต้อง (ไม่ใช้ Sampler, และใช้ Batch_size = row)"
   ]
  },
  {
   "cell_type": "code",
   "execution_count": 85,
   "metadata": {},
   "outputs": [
    {
     "data": {
      "text/plain": [
       "0.0    8438\n",
       "1.0    4635\n",
       "dtype: int64"
      ]
     },
     "execution_count": 85,
     "metadata": {},
     "output_type": "execute_result"
    }
   ],
   "source": [
    "pd.DataFrame(train_dataset.tensors[1].numpy()).value_counts()"
   ]
  },
  {
   "cell_type": "code",
   "execution_count": 86,
   "metadata": {},
   "outputs": [
    {
     "name": "stdout",
     "output_type": "stream",
     "text": [
      "0.0    8438\n",
      "1.0    4635\n",
      "dtype: int64\n"
     ]
    }
   ],
   "source": [
    "for x in train_loader:\n",
    "    print(pd.DataFrame(x[1].numpy()).value_counts())"
   ]
  },
  {
   "attachments": {},
   "cell_type": "markdown",
   "metadata": {},
   "source": [
    "## Calculate per class"
   ]
  },
  {
   "cell_type": "code",
   "execution_count": 225,
   "metadata": {},
   "outputs": [],
   "source": [
    "# import dataset\n",
    "df2 = pd.read_csv(\"../3 - Cleaning & Transforming Data/2 cleaned_dataset_MERGED_DRUG(Mogran)_ALLELESEQ.csv\", index_col = None)\n",
    "\n",
    "if(df2.isna().any().sum()) != 0:\n",
    "    raise Exception('There are still missing values in the dataset!')\n",
    "\n",
    "df2.sort_values(by=['ADR'],inplace = True)\n",
    "df2.reset_index(drop=True,inplace=True)\n",
    "MPexanthema_index = df2[df2['ADR'] == 'MPexanthema'].index.tolist()\n",
    "TEN_index = df2[df2['ADR'] == 'TEN'].index.tolist()\n",
    "SJS_index = df2[df2['ADR'] == 'SJS'].index.tolist()\n",
    "\n",
    "df2 = df2.iloc[:,6:]\n",
    "df2_target = df2['Yes_ADR'].copy()\n",
    "df2.drop(columns=['No_ADR','Yes_ADR','Cohort ethnicity'], inplace=True)\n",
    "\n",
    "\n",
    "accuracy_list = []\n",
    "precision_list = []\n",
    "recall_list = []\n",
    "f1_list = []"
   ]
  },
  {
   "cell_type": "code",
   "execution_count": 226,
   "metadata": {},
   "outputs": [
    {
     "name": "stdout",
     "output_type": "stream",
     "text": [
      "Accuracy: 0.7413055109684323\n",
      "Precision: 0.6606367583212736\n",
      "F1 Score: 0.6537773003938419\n",
      "Recall Score: 0.6470588235294118\n"
     ]
    }
   ],
   "source": [
    "from sklearn.metrics import f1_score, recall_score, precision_score\n",
    "\n",
    "input = df2.copy()\n",
    "input = input.to_numpy()\n",
    "input = torch.tensor(input).float().to(device)\n",
    "target = df2_target.to_numpy()\n",
    "target = torch.tensor(df2_target).float().to(device)\n",
    "output = model2(input)\n",
    "\n",
    "corrected = torch.round(output[TEN_index].flatten().detach().cpu()) == target[TEN_index].detach().cpu()\n",
    "accuracy = torch.sum(corrected).item()/len(corrected)\n",
    "\n",
    "output_rounded = torch.round(output).detach().cpu()\n",
    "target = target.detach().cpu()\n",
    "\n",
    "precision = precision_score(output_rounded[TEN_index],target[TEN_index], zero_division=0)\n",
    "f1_score = f1_score(output_rounded[TEN_index], target[TEN_index], zero_division=0)\n",
    "recall_score = recall_score(output_rounded[TEN_index], target[TEN_index], zero_division=0)\n",
    "\n",
    "print(f\"Accuracy: {accuracy}\")\n",
    "print(f\"Precision: {precision}\")\n",
    "print(f\"F1 Score: {f1_score}\")\n",
    "print(f\"Recall Score: {recall_score}\")\n",
    "\n",
    "accuracy_list.append(accuracy*100)\n",
    "precision_list.append(precision*100)\n",
    "recall_list.append(recall_score*100)\n",
    "f1_list.append(f1_score*100)"
   ]
  },
  {
   "cell_type": "code",
   "execution_count": 227,
   "metadata": {},
   "outputs": [
    {
     "name": "stdout",
     "output_type": "stream",
     "text": [
      "Accuracy: 0.6997416020671835\n",
      "Precision: 0.6824552924117931\n",
      "F1 Score: 0.618349025618568\n",
      "Recall Score: 0.5652522017614091\n"
     ]
    }
   ],
   "source": [
    "from sklearn.metrics import f1_score, recall_score, precision_score\n",
    "\n",
    "input = df2.copy()\n",
    "input = input.to_numpy()\n",
    "input = torch.tensor(input).float().to(device)\n",
    "target = df2_target.to_numpy()\n",
    "target = torch.tensor(df2_target).float().to(device)\n",
    "output = model2(input)\n",
    "\n",
    "corrected = torch.round(output[SJS_index].flatten().detach().cpu()) == target[SJS_index].detach().cpu()\n",
    "accuracy = torch.sum(corrected).item()/len(corrected)\n",
    "\n",
    "output_rounded = torch.round(output).detach().cpu()\n",
    "target = target.detach().cpu()\n",
    "\n",
    "precision = precision_score(output_rounded[SJS_index],target[SJS_index], zero_division=0)\n",
    "f1_score = f1_score(output_rounded[SJS_index], target[SJS_index], zero_division=0)\n",
    "recall_score = recall_score(output_rounded[SJS_index], target[SJS_index], zero_division=0)\n",
    "\n",
    "print(f\"Accuracy: {accuracy}\")\n",
    "print(f\"Precision: {precision}\")\n",
    "print(f\"F1 Score: {f1_score}\")\n",
    "print(f\"Recall Score: {recall_score}\")\n",
    "\n",
    "accuracy_list.append(accuracy*100)\n",
    "precision_list.append(precision*100)\n",
    "recall_list.append(recall_score*100)\n",
    "f1_list.append(f1_score*100)"
   ]
  },
  {
   "cell_type": "code",
   "execution_count": 228,
   "metadata": {},
   "outputs": [
    {
     "name": "stdout",
     "output_type": "stream",
     "text": [
      "Accuracy: 0.6487252124645893\n",
      "Precision: 0.5557432432432432\n",
      "F1 Score: 0.514866979655712\n",
      "Recall Score: 0.47959183673469385\n"
     ]
    }
   ],
   "source": [
    "from sklearn.metrics import f1_score, recall_score, precision_score\n",
    "\n",
    "input = df2.copy()\n",
    "input = input.to_numpy()\n",
    "input = torch.tensor(input).float().to(device)\n",
    "target = df2_target.to_numpy()\n",
    "target = torch.tensor(df2_target).float().to(device)\n",
    "output = model2(input)\n",
    "\n",
    "corrected = torch.round(output[MPexanthema_index].flatten().detach().cpu()) == target[MPexanthema_index].detach().cpu()\n",
    "accuracy = torch.sum(corrected).item()/len(corrected)\n",
    "\n",
    "output_rounded = torch.round(output).detach().cpu()\n",
    "target = target.detach().cpu()\n",
    "\n",
    "precision = precision_score(output_rounded[MPexanthema_index],target[MPexanthema_index], zero_division=0)\n",
    "f1_score = f1_score(output_rounded[MPexanthema_index], target[MPexanthema_index], zero_division=0)\n",
    "recall_score = recall_score(output_rounded[MPexanthema_index], target[MPexanthema_index], zero_division=0)\n",
    "\n",
    "print(f\"Accuracy: {accuracy}\")\n",
    "print(f\"Precision: {precision}\")\n",
    "print(f\"F1 Score: {f1_score}\")\n",
    "print(f\"Recall Score: {recall_score}\")\n",
    "\n",
    "accuracy_list.append(accuracy*100)\n",
    "precision_list.append(precision*100)\n",
    "recall_list.append(recall_score*100)\n",
    "f1_list.append(f1_score*100)"
   ]
  },
  {
   "cell_type": "code",
   "execution_count": 229,
   "metadata": {},
   "outputs": [
    {
     "name": "stdout",
     "output_type": "stream",
     "text": [
      "Accuracy: 0.6978505316300773\n",
      "Precision: 0.6435814455231931\n",
      "F1 Score: 0.6016538926986688\n",
      "Recall Score: 0.5648551410717667\n"
     ]
    }
   ],
   "source": [
    "from sklearn.metrics import f1_score, recall_score, precision_score\n",
    "\n",
    "input = df2.copy()\n",
    "input = input.to_numpy()\n",
    "input = torch.tensor(input).float().to(device)\n",
    "target = df2_target.to_numpy()\n",
    "target = torch.tensor(df2_target).float().to(device)\n",
    "output = model2(input)\n",
    "\n",
    "corrected = torch.round(output.flatten().detach().cpu()) == target.detach().cpu()\n",
    "accuracy = torch.sum(corrected).item()/len(corrected)\n",
    "\n",
    "output_rounded = torch.round(output).detach().cpu()\n",
    "target = target.detach().cpu()\n",
    "\n",
    "precision = precision_score(output_rounded,target, zero_division=0)\n",
    "f1_score = f1_score(output_rounded, target, zero_division=0)\n",
    "recall_score = recall_score(output_rounded, target, zero_division=0)\n",
    "\n",
    "print(f\"Accuracy: {accuracy}\")\n",
    "print(f\"Precision: {precision}\")\n",
    "print(f\"F1 Score: {f1_score}\")\n",
    "print(f\"Recall Score: {recall_score}\")\n",
    "\n",
    "accuracy_list.append(accuracy*100)\n",
    "precision_list.append(precision*100)\n",
    "recall_list.append(recall_score*100)\n",
    "f1_list.append(f1_score*100)"
   ]
  },
  {
   "cell_type": "code",
   "execution_count": 230,
   "metadata": {},
   "outputs": [
    {
     "name": "stdout",
     "output_type": "stream",
     "text": [
      "Accuracy: [74.13055109684323, 69.97416020671835, 64.87252124645893, 69.78505316300773]\n",
      "Precision: [66.06367583212736, 68.24552924117931, 55.57432432432432, 64.3581445523193]\n",
      "Recall Score: [64.70588235294117, 56.52522017614091, 47.95918367346938, 56.48551410717667]\n",
      "F1 Score: [65.37773003938419, 61.834902561856794, 51.4866979655712, 60.16538926986688]\n"
     ]
    }
   ],
   "source": [
    "print(f\"Accuracy: {accuracy_list}\")\n",
    "print(f\"Precision: {precision_list}\")\n",
    "\n",
    "print(f\"Recall Score: {recall_list}\")\n",
    "print(f\"F1 Score: {f1_list}\")"
   ]
  },
  {
   "cell_type": "code",
   "execution_count": 212,
   "metadata": {},
   "outputs": [
    {
     "data": {
      "image/png": "[encoded data removed]",
      "text/plain": [
       "<Figure size 700x300 with 1 Axes>"
      ]
     },
     "metadata": {},
     "output_type": "display_data"
    }
   ],
   "source": [
    "fig,ax = plt.subplots(figsize=(7,3))\n",
    "X_axis = np.arange(1,len(accuracy_list)+1,1)\n",
    "X_axis_label = ['TEN','SJS','MPexanthema','Overall']\n",
    "ax.bar(X_axis+(1/8)-(1/16),accuracy_list, color='red',label = \"Accuracy\",width=1/8)\n",
    "ax.bar(X_axis-(2/8)+(1/16),precision_list, color='yellow',label = \"Precision\",width=1/8)\n",
    "ax.bar(X_axis+(2/8)-(1/16),recall_list, color='green',label = \"Recall\",width=1/8)\n",
    "ax.bar(X_axis-(1/8)+(1/16),f1_list, color='orange',label = \"F1-Score\",width=1/8)\n",
    "\n",
    "ax.set_xticks(X_axis, X_axis_label)\n",
    "#ax.set_ybound(0,1)\n",
    "ax.legend()\n",
    "ax.set_yticks([0,25,50,75,100])\n",
    "ax.set_title(\"Model Performance on predicting ADRs\")\n",
    "ax.set_ylabel(\"Percentage (%)\")\n",
    "plt.style.use('seaborn-pastel')\n",
    "# plt.show()\n",
    "plt.tight_layout()"
   ]
  },
  {
   "cell_type": "code",
   "execution_count": 52,
   "metadata": {},
   "outputs": [
    {
     "data": {
      "text/plain": [
       "['Solarize_Light2',\n",
       " '_classic_test_patch',\n",
       " '_mpl-gallery',\n",
       " '_mpl-gallery-nogrid',\n",
       " 'bmh',\n",
       " 'classic',\n",
       " 'dark_background',\n",
       " 'fast',\n",
       " 'fivethirtyeight',\n",
       " 'ggplot',\n",
       " 'grayscale',\n",
       " 'seaborn',\n",
       " 'seaborn-bright',\n",
       " 'seaborn-colorblind',\n",
       " 'seaborn-dark',\n",
       " 'seaborn-dark-palette',\n",
       " 'seaborn-darkgrid',\n",
       " 'seaborn-deep',\n",
       " 'seaborn-muted',\n",
       " 'seaborn-notebook',\n",
       " 'seaborn-paper',\n",
       " 'seaborn-pastel',\n",
       " 'seaborn-poster',\n",
       " 'seaborn-talk',\n",
       " 'seaborn-ticks',\n",
       " 'seaborn-white',\n",
       " 'seaborn-whitegrid',\n",
       " 'tableau-colorblind10']"
      ]
     },
     "execution_count": 52,
     "metadata": {},
     "output_type": "execute_result"
    }
   ],
   "source": [
    "plt.style.available"
   ]
  },
  {
   "cell_type": "code",
   "execution_count": null,
   "metadata": {},
   "outputs": [
    {
     "data": {
      "text/plain": [
       "tensor([[0., 0., 0.,  ..., 0., 0., 1.],\n",
       "        [0., 0., 0.,  ..., 0., 0., 1.],\n",
       "        [0., 0., 0.,  ..., 0., 0., 1.],\n",
       "        ...,\n",
       "        [0., 0., 0.,  ..., 0., 0., 1.],\n",
       "        [0., 0., 0.,  ..., 0., 0., 1.],\n",
       "        [0., 0., 1.,  ..., 0., 0., 1.]], device='cuda:0')"
      ]
     },
     "execution_count": 396,
     "metadata": {},
     "output_type": "execute_result"
    }
   ],
   "source": [
    "data = data.to(device)\n",
    "target = target.to(device)\n",
    "output = model2(data)\n",
    "output_notrounded_tensor = output.to(device)\n",
    "output_notrounded_numpy = output.detach().cpu().numpy()\n",
    "output = torch.round(output).flatten()\n",
    "output = output.detach().cpu().numpy()\n",
    "target = target.detach().cpu().numpy()"
   ]
  },
  {
   "attachments": {},
   "cell_type": "markdown",
   "metadata": {},
   "source": [
    "## นำผ่านข้อมูล"
   ]
  },
  {
   "cell_type": "code",
   "execution_count": null,
   "metadata": {},
   "outputs": [],
   "source": [
    "for batchidx, (data,target) in enumerate(train_loader):\n",
    "    data = data.to(device)\n",
    "    target = target.to(device)\n",
    "    output = model2(data)\n",
    "    output_notrounded_tensor = output.to(device)\n",
    "    output_notrounded_numpy = output.detach().cpu().numpy()\n",
    "    output = torch.round(output).flatten()\n",
    "    output = output.detach().cpu().numpy()\n",
    "    target = target.detach().cpu().numpy()\n",
    "    #data = data.detach().cpu().numpy()"
   ]
  },
  {
   "cell_type": "code",
   "execution_count": null,
   "metadata": {},
   "outputs": [],
   "source": [
    "# correct = (output == target).sum().item()\n",
    "# acc = correct / len(target)\n",
    "# precision = precision_score(output, target, zero_division=0)\n",
    "# f1_score = f1_score(output, target, zero_division=0)\n",
    "# recall_score = recall_score(output, target, zero_division=0)\n",
    "# print(f\"Accuracy: {acc}\")\n",
    "# print(f\"Precision: {precision}\")\n",
    "# print(f\"F1 Score: {f1_score}\")\n",
    "# print(f\"Recall Score: {recall_score}\")"
   ]
  },
  {
   "cell_type": "code",
   "execution_count": null,
   "metadata": {},
   "outputs": [
    {
     "data": {
      "text/plain": [
       "<matplotlib.collections.PolyCollection at 0x20afc36c7c8>"
      ]
     },
     "execution_count": 308,
     "metadata": {},
     "output_type": "execute_result"
    },
    {
     "data": {
      "image/png": "[encoded data removed]",
      "text/plain": [
       "<Figure size 640x480 with 1 Axes>"
      ]
     },
     "metadata": {},
     "output_type": "display_data"
    }
   ],
   "source": [
    "precision, recall, threshold = precision_recall_curve(target, output_notrounded_tensor.flatten().detach().cpu().numpy(),pos_label=1)\n",
    "F1Score =  (2*precision*recall) / (precision + recall)\n",
    "max_F1Score = np.argmax(F1Score)\n",
    "\n",
    "plt.ylabel(\"Precision\")\n",
    "plt.xlabel(\"Recall\")\n",
    "plt.title(f\"Precision-Recall curve\")\n",
    "plt.fill_between(recall, precision, alpha=0.5, color='g')\n",
    "#plt.scatter(recall[max_F1Score], precision[max_F1Score], marker='o', color='red', label='best')"
   ]
  },
  {
   "cell_type": "code",
   "execution_count": null,
   "metadata": {},
   "outputs": [
    {
     "data": {
      "text/plain": [
       "0.469845"
      ]
     },
     "execution_count": 309,
     "metadata": {},
     "output_type": "execute_result"
    }
   ],
   "source": [
    "max_f1_thresh = threshold[max_F1Score]\n",
    "max_f1_thresh"
   ]
  },
  {
   "cell_type": "code",
   "execution_count": null,
   "metadata": {},
   "outputs": [
    {
     "data": {
      "image/png": "[encoded data removed]",
      "text/plain": [
       "<Figure size 640x480 with 1 Axes>"
      ]
     },
     "metadata": {},
     "output_type": "display_data"
    }
   ],
   "source": [
    "ns_fpr, ns_tpr, _ = roc_curve(target, output_notrounded_tensor.flatten().detach().cpu().numpy())\n",
    "pyplot.fill_between(ns_fpr, ns_tpr, alpha=0.5, color='g')\n",
    "pyplot.title(\"ROC Curve\")\n",
    "pyplot.xlabel('False Positive Rate')\n",
    "pyplot.ylabel('True Positive Rate')\n",
    "pyplot.show()"
   ]
  },
  {
   "cell_type": "code",
   "execution_count": null,
   "metadata": {},
   "outputs": [
    {
     "data": {
      "text/plain": [
       "0.6560166866786907"
      ]
     },
     "execution_count": 311,
     "metadata": {},
     "output_type": "execute_result"
    }
   ],
   "source": [
    "from sklearn.metrics import auc\n",
    "auc_score = auc(recall, precision)\n",
    "auc_score"
   ]
  },
  {
   "cell_type": "code",
   "execution_count": null,
   "metadata": {},
   "outputs": [
    {
     "name": "stdout",
     "output_type": "stream",
     "text": [
      "0.7468256945195527\n"
     ]
    }
   ],
   "source": [
    "# calculate AUC\n",
    "roc_auc = roc_auc_score(target, output_notrounded_tensor.flatten().detach().cpu().numpy())\n",
    "print(roc_auc)"
   ]
  },
  {
   "cell_type": "code",
   "execution_count": null,
   "metadata": {},
   "outputs": [
    {
     "data": {
      "text/plain": [
       "array([[8133,  305],\n",
       "       [3322, 1313]], dtype=int64)"
      ]
     },
     "execution_count": 313,
     "metadata": {},
     "output_type": "execute_result"
    }
   ],
   "source": [
    "cm"
   ]
  },
  {
   "cell_type": "code",
   "execution_count": null,
   "metadata": {},
   "outputs": [],
   "source": [
    "def change_threshold(raw_output, thresholds):\n",
    "    for index, x in enumerate(raw_output):\n",
    "        if x >= thresholds:\n",
    "            raw_output[index] = 1\n",
    "        else:\n",
    "            raw_output[index] = 0\n",
    "    return raw_output"
   ]
  },
  {
   "cell_type": "code",
   "execution_count": null,
   "metadata": {},
   "outputs": [],
   "source": [
    "output_new = change_threshold(output_notrounded_numpy, 0.8)"
   ]
  },
  {
   "cell_type": "code",
   "execution_count": null,
   "metadata": {},
   "outputs": [
    {
     "name": "stdout",
     "output_type": "stream",
     "text": [
      "Accuracy: 0.7225579438537444\n",
      "Precision: 0.2832793959007551\n",
      "F1 Score: 0.4199584199584199\n",
      "Recall Score: 0.811495673671199\n"
     ]
    }
   ],
   "source": [
    "correct = (output_new.flatten()==target).sum().item()\n",
    "acc = correct / len(target)\n",
    "precision = precision_score(output_new, target, zero_division=0)\n",
    "f1_score = f1_score(output_new, target, zero_division=0)\n",
    "recall_score = recall_score(output_new, target, zero_division=0)\n",
    "print(f\"Accuracy: {acc}\")\n",
    "print(f\"Precision: {precision}\")\n",
    "print(f\"F1 Score: {f1_score}\")\n",
    "print(f\"Recall Score: {recall_score}\")"
   ]
  },
  {
   "cell_type": "code",
   "execution_count": null,
   "metadata": {},
   "outputs": [
    {
     "data": {
      "image/png": "[encoded data removed]",
      "text/plain": [
       "<Figure size 640x480 with 2 Axes>"
      ]
     },
     "metadata": {},
     "output_type": "display_data"
    }
   ],
   "source": [
    "import seaborn as sns\n",
    "cm = confusion_matrix(target, output_new)\n",
    "ax = sns.heatmap(cm, annot=True,fmt='d',cmap=\"crest\")\n",
    "# set x-axis label and ticks. \n",
    "ax.set_xlabel(\"Predicted\", fontsize=14, labelpad=20)\n",
    "ax.xaxis.set_ticklabels(['Negative', 'Positive'])\n",
    "\n",
    "# set y-axis label and ticks\n",
    "ax.set_ylabel(\"Actual\", fontsize=14, labelpad=20)\n",
    "ax.yaxis.set_ticklabels(['Negative', 'Positive'])\n",
    "# set plot title\n",
    "ax.set_title(\"Confusion Matrix for the Final Model\", fontsize=14, pad=20)\n",
    "\n",
    "plt.show()"
   ]
  },
  {
   "cell_type": "code",
   "execution_count": null,
   "metadata": {},
   "outputs": [
    {
     "data": {
      "text/plain": [
       "69.78505316300773"
      ]
     },
     "execution_count": 182,
     "metadata": {},
     "output_type": "execute_result"
    }
   ],
   "source": [
    "((6140+2983)/13073)*100"
   ]
  },
  {
   "cell_type": "code",
   "execution_count": null,
   "metadata": {},
   "outputs": [
    {
     "name": "stdout",
     "output_type": "stream",
     "text": [
      "              precision    recall  f1-score   support\n",
      "\n",
      "         0.0       0.79      0.73      0.76      8438\n",
      "         1.0       0.56      0.64      0.60      4635\n",
      "\n",
      "    accuracy                           0.70     13073\n",
      "   macro avg       0.68      0.69      0.68     13073\n",
      "weighted avg       0.71      0.70      0.70     13073\n",
      "\n"
     ]
    }
   ],
   "source": [
    "print(classification_report(target.detach().cpu().numpy(), output))"
   ]
  },
  {
   "cell_type": "code",
   "execution_count": null,
   "metadata": {},
   "outputs": [],
   "source": [
    "def change_threshold(raw_output, thresholds):\n",
    "    for index, x in enumerate(raw_output):\n",
    "        if x >= thresholds:\n",
    "            raw_output[index] = 1\n",
    "        else:\n",
    "            raw_output[index] = 0\n",
    "    return raw_output"
   ]
  },
  {
   "cell_type": "code",
   "execution_count": null,
   "metadata": {},
   "outputs": [
    {
     "ename": "NameError",
     "evalue": "name 'classification_report' is not defined",
     "output_type": "error",
     "traceback": [
      "\u001b[1;31m---------------------------------------------------------------------------\u001b[0m",
      "\u001b[1;31mNameError\u001b[0m                                 Traceback (most recent call last)",
      "\u001b[1;32m~\\AppData\\Local\\Temp\\ipykernel_23352\\1837541195.py\u001b[0m in \u001b[0;36m<module>\u001b[1;34m\u001b[0m\n\u001b[0;32m     11\u001b[0m     \u001b[0mnew_output\u001b[0m \u001b[1;33m=\u001b[0m \u001b[0mchange_threshold\u001b[0m\u001b[1;33m(\u001b[0m\u001b[0moutput\u001b[0m\u001b[1;33m,\u001b[0m\u001b[0mx\u001b[0m\u001b[1;33m)\u001b[0m\u001b[1;33m\u001b[0m\u001b[1;33m\u001b[0m\u001b[0m\n\u001b[0;32m     12\u001b[0m \u001b[1;33m\u001b[0m\u001b[0m\n\u001b[1;32m---> 13\u001b[1;33m     \u001b[0mreport\u001b[0m \u001b[1;33m=\u001b[0m \u001b[0mclassification_report\u001b[0m\u001b[1;33m(\u001b[0m\u001b[0mtarget\u001b[0m\u001b[1;33m,\u001b[0m \u001b[0mnew_output\u001b[0m\u001b[1;33m.\u001b[0m\u001b[0mflatten\u001b[0m\u001b[1;33m(\u001b[0m\u001b[1;33m)\u001b[0m\u001b[1;33m,\u001b[0m \u001b[0moutput_dict\u001b[0m\u001b[1;33m=\u001b[0m\u001b[1;32mTrue\u001b[0m\u001b[1;33m)\u001b[0m\u001b[1;33m\u001b[0m\u001b[1;33m\u001b[0m\u001b[0m\n\u001b[0m\u001b[0;32m     14\u001b[0m \u001b[1;33m\u001b[0m\u001b[0m\n\u001b[0;32m     15\u001b[0m     to_add = pd.DataFrame({\n",
      "\u001b[1;31mNameError\u001b[0m: name 'classification_report' is not defined"
     ]
    }
   ],
   "source": [
    "varying_threshold_df = pd.DataFrame()\n",
    "for ind, x in enumerate(threshold):\n",
    "    \n",
    "    for batchidx, (data,target) in enumerate(train_loader):\n",
    "        data = data.to(device)\n",
    "        target = target.to(device)\n",
    "        target = target.detach().cpu().numpy()\n",
    "        output = model2(data)\n",
    "        output = output.detach().cpu().numpy()\n",
    "\n",
    "    new_output = change_threshold(output,x)\n",
    "\n",
    "    report = classification_report(target, new_output.flatten(), output_dict=True)\n",
    "\n",
    "    to_add = pd.DataFrame({\n",
    "    \"Threshold\":x,\n",
    "    \"0 Precision\": report[\"0.0\"][\"precision\"],\n",
    "    \"0 Recall\": report[\"0.0\"][\"recall\"],\n",
    "    \"0 F1\": report[\"0.0\"][\"f1-score\"],\n",
    "    \"1 Precision\": report[\"1.0\"][\"precision\"],\n",
    "    \"1 Recall\": report[\"1.0\"][\"recall\"],\n",
    "    \"1 F1\": report[\"1.0\"][\"f1-score\"],\n",
    "    }, index = [ind])\n",
    "\n",
    "    varying_threshold_df = pd.concat([varying_threshold_df, to_add], axis=0)\n"
   ]
  },
  {
   "cell_type": "code",
   "execution_count": null,
   "metadata": {},
   "outputs": [
    {
     "data": {
      "text/plain": [
       "Text(0.5, 1.0, 'Test Precision-Recall curve (NO ADR)')"
      ]
     },
     "execution_count": 140,
     "metadata": {},
     "output_type": "execute_result"
    },
    {
     "data": {
      "image/png": "[encoded data removed]",
      "text/plain": [
       "<Figure size 640x480 with 1 Axes>"
      ]
     },
     "metadata": {},
     "output_type": "display_data"
    }
   ],
   "source": [
    "plt.fill_between(varying_threshold_df['0 Recall'].values, varying_threshold_df['0 Precision'].values, alpha=0.5, color='g')\n",
    "plt.ylabel(\"Precision\")\n",
    "plt.xlabel(\"Recall\")\n",
    "plt.title(f\"Test Precision-Recall curve (NO ADR)\")"
   ]
  },
  {
   "cell_type": "code",
   "execution_count": null,
   "metadata": {},
   "outputs": [
    {
     "data": {
      "text/plain": [
       "Text(0.5, 1.0, 'Test Precision-Recall curve (Yes ADR)')"
      ]
     },
     "execution_count": 142,
     "metadata": {},
     "output_type": "execute_result"
    },
    {
     "data": {
      "image/png": "[encoded data removed]",
      "text/plain": [
       "<Figure size 640x480 with 1 Axes>"
      ]
     },
     "metadata": {},
     "output_type": "display_data"
    }
   ],
   "source": [
    "plt.fill_between(varying_threshold_df['1 Recall'].values, varying_threshold_df['1 Precision'].values, alpha=0.5, color='g')\n",
    "plt.ylabel(\"Precision\")\n",
    "plt.xlabel(\"Recall\")\n",
    "plt.title(f\"Test Precision-Recall curve (Yes ADR)\")"
   ]
  },
  {
   "cell_type": "code",
   "execution_count": null,
   "metadata": {},
   "outputs": [],
   "source": [
    "varying_threshold_df.to_csv('varying_threshold.csv')"
   ]
  },
  {
   "cell_type": "code",
   "execution_count": null,
   "metadata": {},
   "outputs": [
    {
     "data": {
      "text/html": [
       "<div>\n",
       "<style scoped>\n",
       "    .dataframe tbody tr th:only-of-type {\n",
       "        vertical-align: middle;\n",
       "    }\n",
       "\n",
       "    .dataframe tbody tr th {\n",
       "        vertical-align: top;\n",
       "    }\n",
       "\n",
       "    .dataframe thead th {\n",
       "        text-align: right;\n",
       "    }\n",
       "</style>\n",
       "<table border=\"1\" class=\"dataframe\">\n",
       "  <thead>\n",
       "    <tr style=\"text-align: right;\">\n",
       "      <th></th>\n",
       "      <th>0 Precision</th>\n",
       "      <th>0 Recall</th>\n",
       "      <th>0 F1</th>\n",
       "      <th>1 Precision</th>\n",
       "      <th>1 Recall</th>\n",
       "      <th>1 F1</th>\n",
       "    </tr>\n",
       "  </thead>\n",
       "  <tbody>\n",
       "    <tr>\n",
       "      <th>1</th>\n",
       "      <td>0.773787</td>\n",
       "      <td>0.732697</td>\n",
       "      <td>0.752682</td>\n",
       "      <td>0.564202</td>\n",
       "      <td>0.617678</td>\n",
       "      <td>0.589731</td>\n",
       "    </tr>\n",
       "  </tbody>\n",
       "</table>\n",
       "</div>"
      ],
      "text/plain": [
       "   0 Precision  0 Recall      0 F1  1 Precision  1 Recall      1 F1\n",
       "1     0.773787  0.732697  0.752682     0.564202  0.617678  0.589731"
      ]
     },
     "execution_count": 100,
     "metadata": {},
     "output_type": "execute_result"
    }
   ],
   "source": [
    "to_add = pd.DataFrame({\n",
    "    \"0 Precision\": report[\"0.0\"][\"precision\"],\n",
    "    \"0 Recall\": report[\"0.0\"][\"recall\"],\n",
    "    \"0 F1\": report[\"0.0\"][\"f1-score\"],\n",
    "    \"1 Precision\": report[\"1.0\"][\"precision\"],\n",
    "    \"1 Recall\": report[\"1.0\"][\"recall\"],\n",
    "    \"1 F1\": report[\"1.0\"][\"f1-score\"],\n",
    "}, index = [ind])"
   ]
  }
 ],
 "metadata": {
  "kernelspec": {
   "display_name": "Python 3",
   "language": "python",
   "name": "python3"
  },
  "language_info": {
   "codemirror_mode": {
    "name": "ipython",
    "version": 3
   },
   "file_extension": ".py",
   "mimetype": "text/x-python",
   "name": "python",
   "nbconvert_exporter": "python",
   "pygments_lexer": "ipython3",
   "version": "3.7.9"
  },
  "orig_nbformat": 4,
  "vscode": {
   "interpreter": {
    "hash": "e66a29805c7d19f665d21a677c79dfb3caac32461f5105693599daa5b8ef61be"
   }
  }
 },
 "nbformat": 4,
 "nbformat_minor": 2
}
