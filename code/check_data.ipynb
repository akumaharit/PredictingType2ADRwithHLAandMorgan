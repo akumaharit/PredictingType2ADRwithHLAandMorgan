{
 "cells": [
  {
   "cell_type": "code",
   "execution_count": 1,
   "metadata": {},
   "outputs": [],
   "source": [
    "import glob\n",
    "import pandas as pd\n",
    "import numpy as np"
   ]
  },
  {
   "cell_type": "code",
   "execution_count": 2,
   "metadata": {},
   "outputs": [],
   "source": [
    "df = pd.read_csv(\"3 - Cleaning & Transforming Data/2 cleaned_dataset_MERGED_DRUG(Mogran)_ALLELESEQ.csv\", index_col = None)"
   ]
  },
  {
   "cell_type": "code",
   "execution_count": 3,
   "metadata": {},
   "outputs": [],
   "source": [
    "final_race = df['Cohort ethnicity'].value_counts()"
   ]
  },
  {
   "cell_type": "code",
   "execution_count": 4,
   "metadata": {},
   "outputs": [],
   "source": [
    "final_allele = df['Allele'].value_counts()"
   ]
  },
  {
   "cell_type": "code",
   "execution_count": 5,
   "metadata": {},
   "outputs": [],
   "source": [
    "final_drug = df['Drug'].value_counts()"
   ]
  },
  {
   "cell_type": "code",
   "execution_count": 6,
   "metadata": {},
   "outputs": [],
   "source": [
    "final_adr = df['ADR'].value_counts()"
   ]
  },
  {
   "cell_type": "code",
   "execution_count": 7,
   "metadata": {},
   "outputs": [],
   "source": [
    "# Import to count"
   ]
  },
  {
   "cell_type": "code",
   "execution_count": 8,
   "metadata": {},
   "outputs": [
    {
     "data": {
      "text/plain": [
       "['3 - Cleaning & Transforming Data\\\\count_adr_afterfilter.csv',\n",
       " '3 - Cleaning & Transforming Data\\\\count_adr_beforefilter.csv',\n",
       " '3 - Cleaning & Transforming Data\\\\count_allele_afterfilter.csv',\n",
       " '3 - Cleaning & Transforming Data\\\\count_allele_beforefilter.csv',\n",
       " '3 - Cleaning & Transforming Data\\\\count_drug_afterfilter.csv',\n",
       " '3 - Cleaning & Transforming Data\\\\count_drug_beforefilter.csv',\n",
       " '3 - Cleaning & Transforming Data\\\\count_race_afterfilter.csv',\n",
       " '3 - Cleaning & Transforming Data\\\\count_race_beforefilter.csv']"
      ]
     },
     "execution_count": 8,
     "metadata": {},
     "output_type": "execute_result"
    }
   ],
   "source": [
    "file_list = []\n",
    "csv_list = glob.glob('3 - Cleaning & Transforming Data/*.csv')\n",
    "\n",
    "for x in csv_list:\n",
    "    if 'count' in x:\n",
    "        file_list.append(x)\n",
    "\n",
    "file_list"
   ]
  },
  {
   "cell_type": "code",
   "execution_count": 9,
   "metadata": {},
   "outputs": [],
   "source": [
    "drug_before = pd.read_csv('3 - Cleaning & Transforming Data\\\\count_drug_beforefilter.csv')\n",
    "drug_after = pd.read_csv('3 - Cleaning & Transforming Data\\\\count_drug_afterfilter.csv')\n",
    "drug_before.rename(columns = {'0':'Count'}, inplace = True)\n",
    "drug_after.rename(columns = {'0':'Count'}, inplace = True)\n",
    "final_drug = pd.DataFrame(final_drug).reset_index().rename(columns = {'index':'Drug', 'Drug':'Count'})\n",
    "drug_count = drug_before.merge(drug_after, on = 'Drug', how = 'outer', suffixes = ('_before', '_after'))\n",
    "drug_count = drug_count.merge(final_drug, on = 'Drug', how = 'outer', suffixes = ('_after', '_final'))\n",
    "drug_count.to_csv('drug_count.csv')"
   ]
  },
  {
   "cell_type": "code",
   "execution_count": 10,
   "metadata": {},
   "outputs": [],
   "source": [
    "adr_before = pd.read_csv('3 - Cleaning & Transforming Data\\\\count_adr_beforefilter.csv')\n",
    "adr_after = pd.read_csv('3 - Cleaning & Transforming Data\\\\count_adr_afterfilter.csv')\n",
    "adr_before.rename(columns = {'0':'Count'}, inplace = True)\n",
    "adr_before.rename(columns = {'Adverse drug reaction':'ADR'}, inplace = True)\n",
    "adr_after.rename(columns = {'0':'Count'}, inplace = True)\n",
    "adr_after.rename(columns = {'Adverse drug reaction':'ADR'}, inplace = True)\n",
    "final_adr = pd.DataFrame(final_adr).reset_index().rename(columns = {'index':'ADR', 'ADR':'Count'})\n",
    "adr_count = adr_before.merge(adr_after, on = 'ADR', how = 'outer', suffixes = ('_before', '_after'))\n",
    "adr_count = adr_count.merge(final_adr, on = 'ADR', how = 'outer', suffixes = ('_after', '_final'))\n",
    "adr_count.to_csv('adr_count.csv')"
   ]
  },
  {
   "cell_type": "code",
   "execution_count": 11,
   "metadata": {},
   "outputs": [],
   "source": [
    "allele_before = pd.read_csv('3 - Cleaning & Transforming Data\\\\count_allele_beforefilter.csv')\n",
    "allele_after = pd.read_csv('3 - Cleaning & Transforming Data\\\\count_allele_afterfilter.csv')\n",
    "allele_before.rename(columns = {'0':'Count'}, inplace = True)\n",
    "#allele_before.rename(columns = {'Cohort ethinicity':'allele'}, inplace = True)\n",
    "allele_after.rename(columns = {'0':'Count'}, inplace = True)\n",
    "#allele_after.rename(columns = {'Adverse drug reaction':'allele'}, inplace = True)\n",
    "final_allele = pd.DataFrame(final_allele).reset_index().rename(columns = {'index':'Allele', 'Allele':'Count'})\n",
    "allele_count = allele_before.merge(allele_after, on = 'Allele', how = 'outer', suffixes = ('_before', '_after'))\n",
    "allele_count = allele_count.merge(final_allele, on = 'Allele', how = 'outer', suffixes = ('_after', '_final'))\n",
    "allele_count.to_csv('allele_count.csv')"
   ]
  },
  {
   "cell_type": "code",
   "execution_count": 12,
   "metadata": {},
   "outputs": [],
   "source": [
    "race_before = pd.read_csv('3 - Cleaning & Transforming Data\\\\count_race_beforefilter.csv')\n",
    "race_after = pd.read_csv('3 - Cleaning & Transforming Data\\\\count_race_afterfilter.csv')\n",
    "race_before.rename(columns = {'0':'Count'}, inplace = True)\n",
    "#race_before.rename(columns = {'Cohort ethinicity':'race'}, inplace = True)\n",
    "race_after.rename(columns = {'0':'Count'}, inplace = True)\n",
    "#race_after.rename(columns = {'Adverse drug reaction':'race'}, inplace = True)\n",
    "final_race = pd.DataFrame(final_race).reset_index().rename(columns = {'index':'Cohort ethnicity', 'Cohort ethnicity':'Count'})\n",
    "race_count = race_before.merge(race_after, on = 'Cohort ethnicity', how = 'outer', suffixes = ('_before', '_after'))\n",
    "race_count = race_count.merge(final_race, on = 'Cohort ethnicity', how = 'outer', suffixes = ('_after', '_final'))\n",
    "race_count.to_csv('race_count.csv')"
   ]
  }
 ],
 "metadata": {
  "kernelspec": {
   "display_name": "Python 3",
   "language": "python",
   "name": "python3"
  },
  "language_info": {
   "codemirror_mode": {
    "name": "ipython",
    "version": 3
   },
   "file_extension": ".py",
   "mimetype": "text/x-python",
   "name": "python",
   "nbconvert_exporter": "python",
   "pygments_lexer": "ipython3",
   "version": "3.7.9"
  },
  "orig_nbformat": 4
 },
 "nbformat": 4,
 "nbformat_minor": 2
}
