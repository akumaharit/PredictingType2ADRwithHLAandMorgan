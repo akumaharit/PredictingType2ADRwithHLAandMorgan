{
 "cells": [
  {
   "cell_type": "code",
   "execution_count": 8,
   "metadata": {},
   "outputs": [],
   "source": [
    "from Bio import SeqIO\n",
    "import pandas as pd\n",
    "\n",
    "def extractHLAfromFasta(filename):\n",
    "    \"\"\" ดึงข้อมูล HLA ออกจาก fasta file แล้ว return list of HLA Alleles \"\"\"\n",
    "    HLAnomenclature_list = []\n",
    "    for seq_record in SeqIO.parse(filename, \"fasta\"):  \n",
    "        seq_description_list = seq_record.description.split()\n",
    "        HLAnomenclature = seq_description_list[1]\n",
    "        HLAnomenclature_list.append(HLAnomenclature)\n",
    "    return HLAnomenclature_list\n",
    "\n",
    "def extractGenefromHLA(listofHLA):\n",
    "    \"\"\" รับ list of HLA alleles, แล้ว return list of Gene\"\"\"\n",
    "    gene_list = []\n",
    "    for HLA in listofHLA:\n",
    "        gene = HLA.split(\"*\")[0]\n",
    "        gene_list.append(gene)\n",
    "    return gene_list\n",
    "\n",
    "def returnuniquefromlist(list):\n",
    "    \"\"\" รับ list ใด ๆ แล้ว return unique values of the list\"\"\"\n",
    "    unique_list = []\n",
    "    loaded_list = pd.DataFrame(list).drop_duplicates()\n",
    "    for lab,row in loaded_list.iterrows():\n",
    "        unique_list.append(row.item())\n",
    "    return unique_list\n",
    "\n",
    "def extractHLAfromGenelist(listofHLA, listofgene):\n",
    "    \"\"\" รับ list of gene แล้ว return list of HLA ที่มียีนนั้น \"\"\"\n",
    "    return_list = []\n",
    "    for HLA in listofHLA:\n",
    "        gene = HLA.split(\"*\")[0]\n",
    "        if gene in listofgene:\n",
    "            return_list.append(HLA)\n",
    "        else:\n",
    "            continue\n",
    "    return return_list"
   ]
  },
  {
   "cell_type": "code",
   "execution_count": 9,
   "metadata": {},
   "outputs": [],
   "source": [
    "# ดึงข้อมูลจาก fasta\n",
    "fasta_HLA = extractHLAfromFasta('../../dataset/dataset_hla_prot.fasta')\n",
    "fasta_gene = extractGenefromHLA(fasta_HLA)\n",
    "fasta_unique_gene = returnuniquefromlist(fasta_gene)\n",
    "fasta_unique_HLA = returnuniquefromlist(fasta_HLA)"
   ]
  },
  {
   "cell_type": "code",
   "execution_count": 10,
   "metadata": {},
   "outputs": [],
   "source": [
    "# ดึงข้อมูล dataset\n",
    "dataset_HLA = pd.read_csv('../../dataset/dataset.csv')"
   ]
  },
  {
   "cell_type": "code",
   "execution_count": 11,
   "metadata": {},
   "outputs": [],
   "source": [
    "# #ดึงข้อมูลจาก datasets\n",
    "# file = open('../3 - Cleaning & Transforming Data/log/log_notclean_Allele.txt', 'r')\n",
    "# dataset_HLA = []\n",
    "# for x in file.readlines():\n",
    "#     x = x.split()\n",
    "#     allele = x[0]\n",
    "#     dataset_HLA.append(allele)\n",
    "# dataset_HLA.sort()\n",
    "# dataset_HLA = list(dataset_HLA[1:])\n",
    "# file.close()\n",
    "\n",
    "# dataset_gene = extractGenefromHLA(dataset_HLA)\n",
    "# dataset_unique_HLA = returnuniquefromlist(dataset_HLA)\n",
    "# dataset_unique_gene = returnuniquefromlist(dataset_gene)"
   ]
  },
  {
   "cell_type": "code",
   "execution_count": 12,
   "metadata": {},
   "outputs": [
    {
     "name": "stdout",
     "output_type": "stream",
     "text": [
      "ในฐานข้อมูล fasta จะมียีนทั้งหมด 26 แต่ใน dataset เราจะมี 12\n",
      "['A', 'B', 'C'] ['DPB1', 'DQA1', 'DQB1', 'DRB1', 'DRB3', 'DRB4', 'DRB5']\n"
     ]
    }
   ],
   "source": [
    "dataset_gene_list = []\n",
    "for x in dataset_HLA['Allele'].drop_duplicates().tolist():\n",
    "    dataset_gene_list.append(x.split(\"*\")[0])\n",
    "dataset_unique_gene = set(dataset_gene_list)\n",
    "\n",
    "print(f\"ในฐานข้อมูล fasta จะมียีนทั้งหมด {len(fasta_unique_gene)} แต่ใน dataset เราจะมี {len(dataset_unique_gene)}\")\n",
    "\n",
    "#หาว่า gene อะไรที่มีทั้งใน dataset และ fasta (จะได้ทำ alignment ของยีนพวกนี้)\n",
    "final_gene = list(set(fasta_unique_gene) & set(dataset_unique_gene))\n",
    "final_gene.sort()\n",
    "final_classone_gene, final_classtwo_gene = final_gene[0:3], final_gene[3:]\n",
    "print(final_classone_gene, final_classtwo_gene)\n",
    "\n",
    "\n"
   ]
  },
  {
   "cell_type": "code",
   "execution_count": 13,
   "metadata": {},
   "outputs": [],
   "source": [
    "# ดึงเอาแต่ข้อมูล HLA ที่ตรงกับ gene list ที่ใส่เข้าไป\n",
    "# จะได้ข้อมูล Alleles ที่จะนำมาทำ Alignments\n",
    "class1HLAtoallignment = extractHLAfromGenelist(fasta_HLA, final_classone_gene)\n",
    "class2HLAtoallignment = extractHLAfromGenelist(fasta_HLA, final_classtwo_gene)"
   ]
  },
  {
   "cell_type": "code",
   "execution_count": 14,
   "metadata": {},
   "outputs": [],
   "source": [
    "def createnewfastafromHLAlist_separatedgene(filename, HLAtoalignment, outputname):\n",
    "    \"\"\" สร้าง HLA ใหม่โดยใช้ HLA list\"\"\"\n",
    "    new_list = []\n",
    "    for seq_record in SeqIO.parse(filename, \"fasta\"):  \n",
    "        seq_description_list = seq_record.description.split()\n",
    "        HLAnomenclature = seq_description_list[1]\n",
    "        if HLAnomenclature in HLAtoalignment:\n",
    "            new_list.append(seq_record)\n",
    "    return SeqIO.write(new_list, outputname, \"fasta\")\n",
    "\n",
    "def createnewfastafromGenelist(fastafile, ListofGeneWantedinfile):\n",
    "    \"\"\" สร้าง fasta ใหม่โดยใช้ list gene ที่ต้องการในไฟล์นั้น ๆ \"\"\"\n",
    "    new_list = []\n",
    "    for gene in ListofGeneWantedinfile:\n",
    "        print(f\"Processing for gene: {gene}\")\n",
    "        for seq_record in SeqIO.parse(fastafile, \"fasta\"):  \n",
    "            seq_description_list = seq_record.description.split()\n",
    "            HLAnomenclature = seq_description_list[1]\n",
    "            GenefromHLAnomenclature = HLAnomenclature.split('*')[0]\n",
    "            if GenefromHLAnomenclature == gene:\n",
    "                new_list.append(seq_record)\n",
    "    SeqIO.write(new_list, f'gene_filtered_{ListofGeneWantedinfile}.fasta', \"fasta\")\n",
    "    print(f\"Saved for gene: {ListofGeneWantedinfile}\")\n",
    "    print(\"All Done\")\n",
    "\n",
    "def dropuniqueHLAvalue(fastafile, fieldwanted,dropchars):\n",
    "    \"\"\" ลบ HLA ที่ซ้ำกันออกจาก fasta file โดย field wanted = 1 ถึง 4\"\"\"\n",
    "    new_df = pd.DataFrame(columns=['HLA','field1','field2','field3','field4'])\n",
    "    seq_record_list = []\n",
    "    \n",
    "    total_counts = 0\n",
    "    for seq_record in SeqIO.parse(fastafile, \"fasta\"):  \n",
    "        total_counts += 1\n",
    "        seq_description_list = seq_record.description.split()\n",
    "        HLAnomenclature = seq_description_list[1]\n",
    "        GenefromHLAnomenclature = HLAnomenclature.split('*')[1]\n",
    "        HLAnomenclature_splited = GenefromHLAnomenclature.split(':')\n",
    "\n",
    "        #Add - if field is empty\n",
    "        while len(HLAnomenclature_splited) < 4:\n",
    "            HLAnomenclature_splited.append('-')\n",
    "\n",
    "        to_add = pd.DataFrame({'HLA': HLAnomenclature,\n",
    "        'field1':HLAnomenclature_splited[0],\n",
    "        'field2':HLAnomenclature_splited[1],\n",
    "        'field3':HLAnomenclature_splited[2],\n",
    "        'field4':HLAnomenclature_splited[3]}, index=[0])\n",
    "\n",
    "        new_df = new_df.append(to_add, ignore_index=True)\n",
    "    new_df = new_df.reset_index(drop=True)\n",
    "    df_dropped = new_df.drop_duplicates(subset=[f'field{x+1}' for x in range(fieldwanted)], keep='first')\n",
    "\n",
    "    # Process drop chars\n",
    "    if dropchars == True:\n",
    "        to_drop = []\n",
    "        #counter = 0\n",
    "        for x in df_dropped.iterrows():\n",
    "            index = -1\n",
    "            y = x[-1][index][-1]\n",
    "            while(y == '-'):\n",
    "                index -= 1\n",
    "                y = x[-1][index][-1]\n",
    "            if y in ['A','B','C','D','E','F','G','H','I','J','K','L','M','N','O','P','Q','R','S','T','U','V','W','X','Y','Z']:   \n",
    "                to_drop.append(x[0])\n",
    "            #counter += 1\n",
    "        df_dropped = df_dropped.drop(to_drop)\n",
    "\n",
    "    # Save file\n",
    "    index_counter = 0\n",
    "    for seq_record in SeqIO.parse(fastafile, \"fasta\"):  \n",
    "        if index_counter in df_dropped.index:\n",
    "            seq_record_list.append(seq_record)\n",
    "        index_counter += 1\n",
    "\n",
    "    # print(new_df)\n",
    "    # print(df_dropped)\n",
    "    # print(df_dropped.index)\n",
    "    # # print(new_list)\n",
    "    # print(seq_record_list)\n",
    "    # f = open(f'{fastafile}_dropdupe{fieldwanted}field_dropchar{str(dropchars)}.txt', \"w\")\n",
    "    # f.write()\n",
    "    # f.close()\n",
    "    SeqIO.write(seq_record_list, f'{fastafile}_dropdupe{fieldwanted}field_dropchar{str(dropchars)}.fasta', \"fasta\")\n",
    "    \n",
    "    #print(f\"Saved for gene: {ListofGeneWantedinfile}\")\n",
    "    print(f\"{total_counts} were removed to {len(seq_record_list)} records\")\n",
    "    print(\"All Done\")\n",
    "\n",
    "#สร้าง csv จาก gene list\n",
    "def createnewfastafromGenelist_separatedgene_csv(filename, Genetoallignment):\n",
    "    for gene in Genetoallignment:\n",
    "        new_csv = pd.DataFrame(columns=['Alleles','Sequence'])\n",
    "        print(f\"Processing for gene: {gene}\")\n",
    "        for seq_record in SeqIO.parse(filename, \"fasta\"):  \n",
    "            seq_description_list = seq_record.description.split()\n",
    "            HLAnomenclature = seq_description_list[1]\n",
    "            GenefromHLAnomenclature = HLAnomenclature.split('*')[0]\n",
    "            allele = seq_record.description.split()[1]\n",
    "            sequence = repr(seq_record.seq).split(\"'\")[1]\n",
    "            if GenefromHLAnomenclature == gene:\n",
    "                new_csv = new_csv.append({\"Alleles\":allele,\"Sequence\":sequence},ignore_index=True)\n",
    "        print(f\"Saved for gene: {gene}\")\n",
    "        new_csv.to_csv(f'gene_{gene}.csv')\n",
    "    print(\"All Done\")\n",
    "\n",
    "# แปลง fasta เป็น csv\n",
    "def convertfastatocsv(filename):\n",
    "    \"\"\" Input file in fasta format to convert to csv \"\"\"\n",
    "    new_csv = pd.DataFrame(columns=['Alleles','Sequence'])\n",
    "    for seq_record in SeqIO.parse(filename, \"fasta\"):  \n",
    "        seq_description_list = seq_record.description.split()\n",
    "        HLAnomenclature = seq_description_list[1]\n",
    "        GenefromHLAnomenclature = HLAnomenclature.split('*')[0]\n",
    "        allele = seq_record.description.split()[1]\n",
    "        sequence = \"\"\n",
    "        for x in list(seq_record.seq):\n",
    "            sequence = sequence+x\n",
    "        new_csv = new_csv.append({\"Alleles\":allele,\"Sequence\":sequence,\"Char\":len(sequence)},ignore_index=True)\n",
    "    new_csv.to_csv(f'{filename}.csv',index=False)\n",
    "\n",
    "# def convertfastatocsv_unalligned(filename):\n",
    "#     \"\"\" Input file in fasta format to convert to csv \"\"\"\n",
    "#     new_csv = pd.DataFrame(columns=['Alleles','Sequence'])\n",
    "#     for seq_record in SeqIO.parse(filename, \"fasta\"):  \n",
    "#         seq_description_list = seq_record.description.split()\n",
    "#         HLAnomenclature = seq_description_list[1]\n",
    "#         GenefromHLAnomenclature = HLAnomenclature.split('*')[0]\n",
    "#         allele = seq_record.description.split()[1]\n",
    "#         sequence = \"\"\n",
    "#         for x in list(seq_record.seq):\n",
    "#             sequence = sequence+x\n",
    "#         new_csv = new_csv.append({\"Alleles\":allele,\"Sequence\":sequence,\"Char\":len(sequence)},ignore_index=True)\n",
    "#     new_csv.to_csv(f'gene_{GenefromHLAnomenclature}_hla_prot.csv',index=False)\n"
   ]
  },
  {
   "cell_type": "code",
   "execution_count": 15,
   "metadata": {},
   "outputs": [
    {
     "name": "stdout",
     "output_type": "stream",
     "text": [
      "Processing for gene: A\n",
      "Processing for gene: B\n",
      "Processing for gene: C\n",
      "Saved for gene: ['A', 'B', 'C']\n",
      "All Done\n"
     ]
    }
   ],
   "source": [
    "createnewfastafromGenelist('../../dataset/dataset_hla_prot.fasta', final_classone_gene)"
   ]
  },
  {
   "cell_type": "code",
   "execution_count": 26,
   "metadata": {},
   "outputs": [
    {
     "name": "stdout",
     "output_type": "stream",
     "text": [
      "24543 were removed to 12370 records\n",
      "All Done\n"
     ]
    }
   ],
   "source": [
    "dropuniqueHLAvalue(\"gene_filtered_['A', 'B', 'C'].fasta\", 2, dropchars=True)"
   ]
  },
  {
   "attachments": {},
   "cell_type": "markdown",
   "metadata": {},
   "source": [
    "# Not used anymore"
   ]
  },
  {
   "cell_type": "code",
   "execution_count": 28,
   "metadata": {},
   "outputs": [],
   "source": [
    "# createnewfastafromGenelist('hla_prot.fasta', final_classone_gene)\n",
    "# createnewfastafromGenelist('hla_prot.fasta', final_classtwo_gene)"
   ]
  },
  {
   "cell_type": "code",
   "execution_count": 29,
   "metadata": {},
   "outputs": [],
   "source": [
    "# #batch covert all aligned fasta file to csv\n",
    "# for x in final_gene:\n",
    "#     convertfastatocsv(f'gene_{x}_hla_prot_aligned.fasta')"
   ]
  },
  {
   "cell_type": "code",
   "execution_count": 30,
   "metadata": {},
   "outputs": [],
   "source": [
    "# #batch covert all UNALLIGNED fasta file to csv\n",
    "# #เพื่อ select ว่าอันไหนน่าจะเป้นตัวแทนที่ดีที่สุดในการเลือก\n",
    "# for x in final_gene:\n",
    "#     convertfastatocsv_unalligned(f'gene_{x}_hla_prot.fasta')\n",
    "#     df = pd.read_csv(f'gene_{x}_hla_prot.csv')\n",
    "#     try:\n",
    "#         max = df[df['Char'] == df['Char'].max()].values[[0,1],[0,2]]\n",
    "#         min = df[df['Char'] == df['Char'].min()].values[[0,1],[0,2]]\n",
    "#     except:\n",
    "#         max = df[df['Char'] == df['Char'].max()].values[0][[0,2]]\n",
    "#         min = df[df['Char'] == df['Char'].min()].values[0][[0,2]]\n",
    "#     print(max)\n",
    "#     print(min)\n",
    "#     print(\"with average of \" + str(df['Char'].mean()))\n",
    "#     print(\"---------------------------------\")"
   ]
  },
  {
   "cell_type": "code",
   "execution_count": 31,
   "metadata": {},
   "outputs": [],
   "source": [
    "# def returnHLAtwofirstfield(HLAlist):\n",
    "#     return_list = []\n",
    "#     for HLA in HLAlist:\n",
    "#         splitedHLA = HLA.split(\":\")\n",
    "#         HLAtwo = splitedHLA[0:2]\n",
    "#         newHLA = ':'.join(HLAtwo)\n",
    "#         return_list.append(newHLA)\n",
    "#     return return_list"
   ]
  },
  {
   "cell_type": "code",
   "execution_count": 32,
   "metadata": {},
   "outputs": [],
   "source": [
    "# #HLA 2 field แรกจากฐานข้อมูล fasta\n",
    "# returnuniquefromlist(returnHLAtwofirstfield(fasta_HLA))"
   ]
  }
 ],
 "metadata": {
  "kernelspec": {
   "display_name": "Python 3",
   "language": "python",
   "name": "python3"
  },
  "language_info": {
   "codemirror_mode": {
    "name": "ipython",
    "version": 3
   },
   "file_extension": ".py",
   "mimetype": "text/x-python",
   "name": "python",
   "nbconvert_exporter": "python",
   "pygments_lexer": "ipython3",
   "version": "3.7.9"
  },
  "orig_nbformat": 4,
  "vscode": {
   "interpreter": {
    "hash": "e66a29805c7d19f665d21a677c79dfb3caac32461f5105693599daa5b8ef61be"
   }
  }
 },
 "nbformat": 4,
 "nbformat_minor": 2
}
