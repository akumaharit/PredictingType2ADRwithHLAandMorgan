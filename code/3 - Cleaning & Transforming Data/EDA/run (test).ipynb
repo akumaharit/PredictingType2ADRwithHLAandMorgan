{
 "cells": [
  {
   "cell_type": "code",
   "execution_count": 1,
   "metadata": {},
   "outputs": [],
   "source": [
    "import torch\n",
    "import pandas as pd\n",
    "import numpy as np\n",
    "from sklearn.model_selection import train_test_split\n",
    "import torch.nn as nn\n",
    "from torch.utils.data import Dataset, DataLoader, TensorDataset\n",
    "from sklearn.metrics import confusion_matrix, ConfusionMatrixDisplay, precision_score, recall_score, f1_score, accuracy_score\n",
    "\n",
    "from torch.utils.tensorboard import SummaryWriter\n",
    "from torch.utils.data import WeightedRandomSampler\n",
    "from torchsampler import ImbalancedDatasetSampler\n"
   ]
  },
  {
   "cell_type": "code",
   "execution_count": 32,
   "metadata": {},
   "outputs": [],
   "source": [
    "df_input = df.iloc[:,1:]\n",
    "df_target = df.iloc[:,0]"
   ]
  },
  {
   "cell_type": "code",
   "execution_count": 33,
   "metadata": {},
   "outputs": [],
   "source": [
    "train_input, test_input, train_target, test_target = train_test_split(df_input, df_target, test_size=0.2, random_state=42, stratify = df_target)\n"
   ]
  },
  {
   "cell_type": "code",
   "execution_count": 34,
   "metadata": {},
   "outputs": [
    {
     "name": "stdout",
     "output_type": "stream",
     "text": [
      "train_label data distribution 0/1: 8940/5348\n",
      "test_labels data distribution 0/1: 2235/1337\n"
     ]
    }
   ],
   "source": [
    "print('train_label data distribution 0/1: {}/{}'.format(\n",
    "len(np.where(train_target == 0)[0]), len(np.where(train_target == 1)[0])))\n",
    "\n",
    "print('test_labels data distribution 0/1: {}/{}'.format(\n",
    "len(np.where(test_target == 0)[0]), len(np.where(test_target == 1)[0])))"
   ]
  },
  {
   "cell_type": "code",
   "execution_count": 35,
   "metadata": {},
   "outputs": [],
   "source": [
    "#calculate weight for each class in train_labels\n",
    "weight = (1/pd.DataFrame(train_target).value_counts()).tolist()\n",
    "\n",
    "#create weight array for train_labels\n",
    "sample_weights = np.array([weight[int(t)] for t in train_target])"
   ]
  },
  {
   "cell_type": "code",
   "execution_count": 36,
   "metadata": {},
   "outputs": [],
   "source": [
    "sampler = WeightedRandomSampler(weights=sample_weights,num_samples=len(sample_weights), replacement=True)"
   ]
  },
  {
   "cell_type": "code",
   "execution_count": 37,
   "metadata": {},
   "outputs": [],
   "source": [
    "train_dataset = TensorDataset(torch.from_numpy(train_input.values).float(),torch.from_numpy(train_target.values).float())\n",
    "test_dataset = TensorDataset(torch.from_numpy(test_input.values).float(),torch.from_numpy(test_target.values).float())"
   ]
  },
  {
   "cell_type": "code",
   "execution_count": 38,
   "metadata": {},
   "outputs": [
    {
     "data": {
      "text/plain": [
       "array([0, 1], dtype=int64)"
      ]
     },
     "execution_count": 38,
     "metadata": {},
     "output_type": "execute_result"
    }
   ],
   "source": [
    "np.unique(train_target.values)"
   ]
  },
  {
   "cell_type": "code",
   "execution_count": 48,
   "metadata": {},
   "outputs": [],
   "source": [
    "train_loader = DataLoader(train_dataset, batch_size=256, sampler = sampler) #sampler = ImbalancedDatasetSampler(train_dataset))\n",
    "test_loader= DataLoader(test_dataset, batch_size=len(test_dataset), shuffle=True)"
   ]
  },
  {
   "cell_type": "code",
   "execution_count": null,
   "metadata": {},
   "outputs": [],
   "source": [
    "def get_model():\n",
    "    model = nn.Sequential(\n",
    "        nn.Linear(train_loader.dataset.tensors[0].shape[1], 512),\n",
    "        nn.ReLU(),\n",
    "        nn.Linear(512,256),\n",
    "        nn.ReLU(),\n",
    "        nn.Linear(256,64),\n",
    "        nn.ReLU(),\n",
    "        nn.Linear(64,1),\n",
    "        nn.Sigmoid(),\n",
    "    )\n",
    "\n",
    "    optimizer = torch.optim.Adam(model.parameters(), lr=0.001)\n",
    "    loss = nn.BCELoss()\n",
    "\n",
    "    return model,optimizer,loss"
   ]
  },
  {
   "cell_type": "code",
   "execution_count": null,
   "metadata": {},
   "outputs": [],
   "source": [
    "device = torch.device(\"cuda\" if torch.cuda.is_available() else \"cpu\")"
   ]
  },
  {
   "cell_type": "code",
   "execution_count": 44,
   "metadata": {},
   "outputs": [
    {
     "data": {
      "text/plain": [
       "device(type='cuda')"
      ]
     },
     "execution_count": 44,
     "metadata": {},
     "output_type": "execute_result"
    }
   ],
   "source": [
    "device"
   ]
  },
  {
   "cell_type": "code",
   "execution_count": null,
   "metadata": {},
   "outputs": [],
   "source": [
    "model,optimizer,loss_fn=get_model()\n",
    "model = model.to(device)"
   ]
  },
  {
   "cell_type": "code",
   "execution_count": 51,
   "metadata": {},
   "outputs": [
    {
     "name": "stdout",
     "output_type": "stream",
     "text": [
      "0, Loss: 0.541, testloss: 29.227 Train_Accuracy: 71.265989875, Test_Accuracy: 70.77,test precision: 0.6028421839940165,test recall: 0.6110689916603488,test f1: 0.6069277108433735\n",
      "1, Loss: 0.542, testloss: 29.339 Train_Accuracy: 71.12433464285715, Test_Accuracy: 70.66,test precision: 0.6095736724008975,test recall: 0.6077554064131245,test f1: 0.6086631814787155\n",
      "2, Loss: 0.546, testloss: 29.087 Train_Accuracy: 71.51227678571429, Test_Accuracy: 70.91,test precision: 0.6028421839940165,test recall: 0.6133942161339422,test f1: 0.6080724254998113\n",
      "3, Loss: 0.547, testloss: 29.087 Train_Accuracy: 70.73692908928571, Test_Accuracy: 70.91,test precision: 0.6028421839940165,test recall: 0.6133942161339422,test f1: 0.6080724254998113\n",
      "4, Loss: 0.542, testloss: 29.339 Train_Accuracy: 71.594909, Test_Accuracy: 70.66,test precision: 0.6035901271503366,test recall: 0.609056603773585,test f1: 0.6063110443275733\n",
      "5, Loss: 0.546, testloss: 29.955 Train_Accuracy: 71.43179085714286, Test_Accuracy: 70.04,test precision: 0.6200448765893792,test recall: 0.5959741193386053,test f1: 0.6077712609970675\n",
      "6, Loss: 0.549, testloss: 29.955 Train_Accuracy: 70.72673419642858, Test_Accuracy: 70.04,test precision: 0.6207928197456993,test recall: 0.5958363244795406,test f1: 0.608058608058608\n",
      "7, Loss: 0.543, testloss: 29.339 Train_Accuracy: 71.33091517857143, Test_Accuracy: 70.66,test precision: 0.6192969334330591,test recall: 0.6057059253840527,test f1: 0.6124260355029586\n",
      "8, Loss: 0.543, testloss: 29.367 Train_Accuracy: 71.25847785714285, Test_Accuracy: 70.63,test precision: 0.6178010471204188,test recall: 0.6055718475073314,test f1: 0.6116253239540911\n",
      "9, Loss: 0.551, testloss: 29.731 Train_Accuracy: 70.667174625, Test_Accuracy: 70.27,test precision: 0.6357516828721017,test recall: 0.5964912280701754,test f1: 0.6154960173787111\n",
      "10, Loss: 0.548, testloss: 29.367 Train_Accuracy: 71.02131267857142, Test_Accuracy: 70.63,test precision: 0.6170531039640987,test recall: 0.6057268722466961,test f1: 0.6113375324194146\n",
      "11, Loss: 0.547, testloss: 29.591 Train_Accuracy: 71.08087225, Test_Accuracy: 70.41,test precision: 0.6222887060583395,test recall: 0.6011560693641619,test f1: 0.611539875045939\n",
      "12, Loss: 0.541, testloss: 29.619 Train_Accuracy: 71.56808035714286, Test_Accuracy: 70.38,test precision: 0.6207928197456993,test recall: 0.6010137581462708,test f1: 0.6107431935246505\n",
      "13, Loss: 0.544, testloss: 29.563 Train_Accuracy: 70.99019144642857, Test_Accuracy: 70.44,test precision: 0.6207928197456993,test recall: 0.6018854242204495,test f1: 0.6111929307805597\n",
      "14, Loss: 0.550, testloss: 29.227 Train_Accuracy: 70.533568, Test_Accuracy: 70.77,test precision: 0.6163051608077786,test recall: 0.6081180811808118,test f1: 0.6121842496285291\n",
      "15, Loss: 0.542, testloss: 29.003 Train_Accuracy: 71.45379035714285, Test_Accuracy: 71.00,test precision: 0.6110695587135377,test recall: 0.6129032258064516,test f1: 0.6119850187265918\n",
      "16, Loss: 0.547, testloss: 29.143 Train_Accuracy: 71.27940419642857, Test_Accuracy: 70.86,test precision: 0.6163051608077786,test recall: 0.6094674556213018,test f1: 0.6128672368910376\n",
      "17, Loss: 0.542, testloss: 28.863 Train_Accuracy: 71.21179601785714, Test_Accuracy: 71.14,test precision: 0.6088257292445775,test recall: 0.6157337367624811,test f1: 0.6122602482136142\n",
      "18, Loss: 0.548, testloss: 29.059 Train_Accuracy: 70.71814903571429, Test_Accuracy: 70.94,test precision: 0.6095736724008975,test recall: 0.6123215627347859,test f1: 0.610944527736132\n",
      "19, Loss: 0.543, testloss: 29.059 Train_Accuracy: 70.91829069642857, Test_Accuracy: 70.94,test precision: 0.6267763649962603,test recall: 0.6085693536673928,test f1: 0.6175386882829771\n",
      "20, Loss: 0.542, testloss: 29.451 Train_Accuracy: 71.32340316071428, Test_Accuracy: 70.55,test precision: 0.6192969334330591,test recall: 0.6039387308533917,test f1: 0.6115214180206795\n",
      "21, Loss: 0.550, testloss: 29.563 Train_Accuracy: 70.85873110714286, Test_Accuracy: 70.44,test precision: 0.6335078534031413,test recall: 0.5994338287331918,test f1: 0.6160000000000001\n",
      "22, Loss: 0.540, testloss: 29.283 Train_Accuracy: 71.65983430357143, Test_Accuracy: 70.72,test precision: 0.6050860134629769,test recall: 0.6096458176337604,test f1: 0.6073573573573573\n",
      "23, Loss: 0.544, testloss: 29.423 Train_Accuracy: 71.643737125, Test_Accuracy: 70.58,test precision: 0.6073298429319371,test recall: 0.6068759342301944,test f1: 0.6071028037383178\n",
      "24, Loss: 0.540, testloss: 29.367 Train_Accuracy: 71.23594178571429, Test_Accuracy: 70.63,test precision: 0.6073298429319371,test recall: 0.6077844311377245,test f1: 0.6075570520014963\n",
      "25, Loss: 0.539, testloss: 29.423 Train_Accuracy: 71.686126375, Test_Accuracy: 70.58,test precision: 0.6035901271503366,test recall: 0.6076807228915663,test f1: 0.6056285178236397\n",
      "26, Loss: 0.538, testloss: 29.199 Train_Accuracy: 71.73817392857143, Test_Accuracy: 70.80,test precision: 0.6043380703066566,test recall: 0.6111951588502269,test f1: 0.6077472734110567\n",
      "27, Loss: 0.542, testloss: 29.255 Train_Accuracy: 71.2874527857143, Test_Accuracy: 70.74,test precision: 0.605833956619297,test recall: 0.6099397590361446,test f1: 0.6078799249530957\n",
      "28, Loss: 0.542, testloss: 29.563 Train_Accuracy: 70.92580271428571, Test_Accuracy: 70.44,test precision: 0.6237845923709798,test recall: 0.601297764960346,test f1: 0.6123348017621145\n",
      "29, Loss: 0.543, testloss: 29.395 Train_Accuracy: 71.28101391071428, Test_Accuracy: 70.60,test precision: 0.612565445026178,test recall: 0.6062176165803109,test f1: 0.609375\n",
      "30, Loss: 0.538, testloss: 29.815 Train_Accuracy: 71.91256008928572, Test_Accuracy: 70.18,test precision: 0.6260284218399401,test recall: 0.5970042796005706,test f1: 0.6111719605695509\n",
      "31, Loss: 0.545, testloss: 29.283 Train_Accuracy: 71.60564044642858, Test_Accuracy: 70.72,test precision: 0.6200448765893792,test recall: 0.6064374542794441,test f1: 0.6131656804733728\n",
      "32, Loss: 0.545, testloss: 29.283 Train_Accuracy: 71.05404360714286, Test_Accuracy: 70.72,test precision: 0.6163051608077786,test recall: 0.6072218128224024,test f1: 0.6117297698589459\n",
      "33, Loss: 0.542, testloss: 29.255 Train_Accuracy: 71.62120107142857, Test_Accuracy: 70.74,test precision: 0.6133133881824981,test recall: 0.6083086053412463,test f1: 0.6108007448789572\n",
      "34, Loss: 0.542, testloss: 29.367 Train_Accuracy: 71.74944196428571, Test_Accuracy: 70.63,test precision: 0.6050860134629769,test recall: 0.6082706766917293,test f1: 0.6066741657292839\n",
      "35, Loss: 0.550, testloss: 29.003 Train_Accuracy: 70.72512448214286, Test_Accuracy: 71.00,test precision: 0.6013462976813763,test recall: 0.6151491966335119,test f1: 0.6081694402420574\n",
      "36, Loss: 0.548, testloss: 28.919 Train_Accuracy: 70.96067994642857, Test_Accuracy: 71.08,test precision: 0.5946148092744952,test recall: 0.6181959564541213,test f1: 0.6061761341974838\n",
      "37, Loss: 0.548, testloss: 29.059 Train_Accuracy: 70.92687585714286, Test_Accuracy: 70.94,test precision: 0.5983545250560958,test recall: 0.6149116064565718,test f1: 0.6065200909780137\n",
      "38, Loss: 0.545, testloss: 29.423 Train_Accuracy: 71.07175051785714, Test_Accuracy: 70.58,test precision: 0.6080777860882572,test recall: 0.6067164179104477,test f1: 0.6073963391856556\n",
      "39, Loss: 0.546, testloss: 28.835 Train_Accuracy: 71.40764508928571, Test_Accuracy: 71.16,test precision: 0.6028421839940165,test recall: 0.617624521072797,test f1: 0.6101438304314913\n",
      "40, Loss: 0.543, testloss: 29.479 Train_Accuracy: 71.34164664285714, Test_Accuracy: 70.52,test precision: 0.6050860134629769,test recall: 0.6064467766116941,test f1: 0.6057656308498689\n",
      "41, Loss: 0.548, testloss: 29.199 Train_Accuracy: 70.94511933928571, Test_Accuracy: 70.80,test precision: 0.6080777860882572,test recall: 0.6103603603603603,test f1: 0.6092169351817159\n",
      "42, Loss: 0.555, testloss: 29.143 Train_Accuracy: 70.21699003571429, Test_Accuracy: 70.86,test precision: 0.6095736724008975,test recall: 0.610944527736132,test f1: 0.6102583302134033\n",
      "43, Loss: 0.546, testloss: 29.367 Train_Accuracy: 71.04599501785714, Test_Accuracy: 70.63,test precision: 0.6095736724008975,test recall: 0.6073025335320418,test f1: 0.6084359835759613\n",
      "44, Loss: 0.544, testloss: 29.367 Train_Accuracy: 71.67163891071428, Test_Accuracy: 70.63,test precision: 0.6110695587135377,test recall: 0.6069836552748885,test f1: 0.6090197540067088\n",
      "45, Loss: 0.548, testloss: 29.199 Train_Accuracy: 70.94511933928571, Test_Accuracy: 70.80,test precision: 0.6073298429319371,test recall: 0.6105263157894737,test f1: 0.6089238845144356\n",
      "46, Loss: 0.546, testloss: 29.423 Train_Accuracy: 71.55949519642857, Test_Accuracy: 70.58,test precision: 0.6095736724008975,test recall: 0.6063988095238095,test f1: 0.607982096232749\n",
      "47, Loss: 0.541, testloss: 29.395 Train_Accuracy: 71.63729825, Test_Accuracy: 70.60,test precision: 0.606581899775617,test recall: 0.6074906367041198,test f1: 0.6070359281437127\n",
      "48, Loss: 0.541, testloss: 29.171 Train_Accuracy: 71.549836875, Test_Accuracy: 70.83,test precision: 0.6028421839940165,test recall: 0.6119969627942293,test f1: 0.6073850791258478\n",
      "49, Loss: 0.542, testloss: 29.451 Train_Accuracy: 71.94582760714286, Test_Accuracy: 70.55,test precision: 0.6095736724008975,test recall: 0.6059479553903345,test f1: 0.6077554064131244\n",
      "50, Loss: 0.548, testloss: 29.451 Train_Accuracy: 70.95853366071428, Test_Accuracy: 70.55,test precision: 0.6088257292445775,test recall: 0.6061057334326135,test f1: 0.6074626865671642\n",
      "51, Loss: 0.551, testloss: 29.199 Train_Accuracy: 70.670930625, Test_Accuracy: 70.80,test precision: 0.6073298429319371,test recall: 0.6105263157894737,test f1: 0.6089238845144356\n",
      "52, Loss: 0.547, testloss: 29.423 Train_Accuracy: 70.72673419642858, Test_Accuracy: 70.58,test precision: 0.6103216155572176,test recall: 0.6062407132243685,test f1: 0.6082743197912784\n",
      "53, Loss: 0.545, testloss: 29.227 Train_Accuracy: 71.23647835714286, Test_Accuracy: 70.77,test precision: 0.606581899775617,test recall: 0.6102332580887886,test f1: 0.6084021005251313\n",
      "54, Loss: 0.547, testloss: 29.367 Train_Accuracy: 71.07336023214286, Test_Accuracy: 70.63,test precision: 0.6103216155572176,test recall: 0.6071428571428571,test f1: 0.608728086534875\n",
      "55, Loss: 0.544, testloss: 29.591 Train_Accuracy: 71.588470125, Test_Accuracy: 70.41,test precision: 0.6080777860882572,test recall: 0.6040118870728083,test f1: 0.606038017144987\n",
      "56, Loss: 0.536, testloss: 29.591 Train_Accuracy: 71.76285628571428, Test_Accuracy: 70.41,test precision: 0.612565445026178,test recall: 0.6030927835051546,test f1: 0.6077922077922078\n",
      "57, Loss: 0.546, testloss: 29.591 Train_Accuracy: 70.91292496428572, Test_Accuracy: 70.41,test precision: 0.612565445026178,test recall: 0.6030927835051546,test f1: 0.6077922077922078\n",
      "58, Loss: 0.541, testloss: 29.647 Train_Accuracy: 71.33198832142857, Test_Accuracy: 70.35,test precision: 0.6103216155572176,test recall: 0.6026587887740029,test f1: 0.6064659977703456\n",
      "59, Loss: 0.546, testloss: 29.563 Train_Accuracy: 71.09428657142857, Test_Accuracy: 70.44,test precision: 0.6118175018698578,test recall: 0.603690036900369,test f1: 0.6077265973254087\n",
      "60, Loss: 0.542, testloss: 29.115 Train_Accuracy: 71.09857916071428, Test_Accuracy: 70.88,test precision: 0.5991024682124159,test recall: 0.6137931034482759,test f1: 0.6063588190764573\n",
      "61, Loss: 0.549, testloss: 29.115 Train_Accuracy: 70.99824003571429, Test_Accuracy: 70.88,test precision: 0.6035901271503366,test recall: 0.6127562642369021,test f1: 0.6081386586284853\n",
      "62, Loss: 0.550, testloss: 29.087 Train_Accuracy: 70.8984375, Test_Accuracy: 70.91,test precision: 0.600598354525056,test recall: 0.613914373088685,test f1: 0.6071833648393195\n",
      "63, Loss: 0.539, testloss: 28.891 Train_Accuracy: 71.728515625, Test_Accuracy: 71.11,test precision: 0.5991024682124159,test recall: 0.6175790285273709,test f1: 0.6082004555808657\n",
      "64, Loss: 0.549, testloss: 29.143 Train_Accuracy: 70.78897664285714, Test_Accuracy: 70.86,test precision: 0.6035901271503366,test recall: 0.6122913505311077,test f1: 0.607909604519774\n",
      "65, Loss: 0.549, testloss: 29.395 Train_Accuracy: 70.709563875, Test_Accuracy: 70.60,test precision: 0.6088257292445775,test recall: 0.6070096942580164,test f1: 0.6079163554891711\n",
      "66, Loss: 0.548, testloss: 29.367 Train_Accuracy: 70.83565848214286, Test_Accuracy: 70.63,test precision: 0.6103216155572176,test recall: 0.6071428571428571,test f1: 0.608728086534875\n",
      "67, Loss: 0.546, testloss: 29.339 Train_Accuracy: 71.14204155357143, Test_Accuracy: 70.66,test precision: 0.6088257292445775,test recall: 0.607916355489171,test f1: 0.6083707025411061\n",
      "68, Loss: 0.550, testloss: 29.311 Train_Accuracy: 70.90648608928572, Test_Accuracy: 70.69,test precision: 0.6103216155572176,test recall: 0.6080476900149031,test f1: 0.6091825307950728\n",
      "69, Loss: 0.540, testloss: 29.311 Train_Accuracy: 71.3851090357143, Test_Accuracy: 70.69,test precision: 0.6103216155572176,test recall: 0.6080476900149031,test f1: 0.6091825307950728\n",
      "70, Loss: 0.549, testloss: 29.143 Train_Accuracy: 70.543762875, Test_Accuracy: 70.86,test precision: 0.605833956619297,test recall: 0.6117824773413897,test f1: 0.608793686583991\n",
      "71, Loss: 0.544, testloss: 29.535 Train_Accuracy: 71.44252232142857, Test_Accuracy: 70.46,test precision: 0.6103216155572176,test recall: 0.6044444444444445,test f1: 0.6073688128023818\n",
      "72, Loss: 0.540, testloss: 29.479 Train_Accuracy: 71.69363839285714, Test_Accuracy: 70.52,test precision: 0.6230366492146597,test recall: 0.6027496382054993,test f1: 0.6127252666421479\n",
      "73, Loss: 0.540, testloss: 29.339 Train_Accuracy: 71.543398, Test_Accuracy: 70.66,test precision: 0.6192969334330591,test recall: 0.6057059253840527,test f1: 0.6124260355029586\n",
      "74, Loss: 0.548, testloss: 29.227 Train_Accuracy: 71.152773, Test_Accuracy: 70.77,test precision: 0.6035901271503366,test recall: 0.6109008327024981,test f1: 0.6072234762979684\n",
      "75, Loss: 0.532, testloss: 29.115 Train_Accuracy: 72.35415951785714, Test_Accuracy: 70.88,test precision: 0.6050860134629769,test recall: 0.6124148372445117,test f1: 0.6087283671933784\n"
     ]
    },
    {
     "ename": "KeyboardInterrupt",
     "evalue": "",
     "output_type": "error",
     "traceback": [
      "\u001b[1;31m---------------------------------------------------------------------------\u001b[0m",
      "\u001b[1;31mKeyboardInterrupt\u001b[0m                         Traceback (most recent call last)",
      "\u001b[1;32m~\\AppData\\Local\\Temp\\ipykernel_21236\\1920696112.py\u001b[0m in \u001b[0;36m<module>\u001b[1;34m\u001b[0m\n\u001b[0;32m     13\u001b[0m         \u001b[0mrunning_train_acc\u001b[0m \u001b[1;33m=\u001b[0m \u001b[1;33m[\u001b[0m\u001b[1;33m]\u001b[0m\u001b[1;33m\u001b[0m\u001b[1;33m\u001b[0m\u001b[0m\n\u001b[0;32m     14\u001b[0m         \u001b[0mmodel\u001b[0m\u001b[1;33m.\u001b[0m\u001b[0mtrain\u001b[0m\u001b[1;33m(\u001b[0m\u001b[1;33m)\u001b[0m\u001b[1;33m\u001b[0m\u001b[1;33m\u001b[0m\u001b[0m\n\u001b[1;32m---> 15\u001b[1;33m         \u001b[1;32mfor\u001b[0m \u001b[0mbatch_idx\u001b[0m\u001b[1;33m,\u001b[0m \u001b[1;33m(\u001b[0m\u001b[0mdata\u001b[0m\u001b[1;33m,\u001b[0m \u001b[0mtarget\u001b[0m\u001b[1;33m)\u001b[0m \u001b[1;32min\u001b[0m \u001b[0menumerate\u001b[0m\u001b[1;33m(\u001b[0m\u001b[0mtrain_loader\u001b[0m\u001b[1;33m)\u001b[0m\u001b[1;33m:\u001b[0m\u001b[1;33m\u001b[0m\u001b[1;33m\u001b[0m\u001b[0m\n\u001b[0m\u001b[0;32m     16\u001b[0m             \u001b[1;31m# # Limiting training data for faster epochs.\u001b[0m\u001b[1;33m\u001b[0m\u001b[1;33m\u001b[0m\u001b[1;33m\u001b[0m\u001b[0m\n\u001b[0;32m     17\u001b[0m             \u001b[1;31m# if batch_idx * BATCHSIZE >= N_TRAIN_EXAMPLES:\u001b[0m\u001b[1;33m\u001b[0m\u001b[1;33m\u001b[0m\u001b[1;33m\u001b[0m\u001b[0m\n",
      "\u001b[1;32mc:\\Users\\harit\\AppData\\Local\\Programs\\Python\\Python37\\lib\\site-packages\\torch\\utils\\data\\dataloader.py\u001b[0m in \u001b[0;36m__next__\u001b[1;34m(self)\u001b[0m\n\u001b[0;32m    626\u001b[0m                 \u001b[1;31m# TODO(https://github.com/pytorch/pytorch/issues/76750)\u001b[0m\u001b[1;33m\u001b[0m\u001b[1;33m\u001b[0m\u001b[1;33m\u001b[0m\u001b[0m\n\u001b[0;32m    627\u001b[0m                 \u001b[0mself\u001b[0m\u001b[1;33m.\u001b[0m\u001b[0m_reset\u001b[0m\u001b[1;33m(\u001b[0m\u001b[1;33m)\u001b[0m  \u001b[1;31m# type: ignore[call-arg]\u001b[0m\u001b[1;33m\u001b[0m\u001b[1;33m\u001b[0m\u001b[0m\n\u001b[1;32m--> 628\u001b[1;33m             \u001b[0mdata\u001b[0m \u001b[1;33m=\u001b[0m \u001b[0mself\u001b[0m\u001b[1;33m.\u001b[0m\u001b[0m_next_data\u001b[0m\u001b[1;33m(\u001b[0m\u001b[1;33m)\u001b[0m\u001b[1;33m\u001b[0m\u001b[1;33m\u001b[0m\u001b[0m\n\u001b[0m\u001b[0;32m    629\u001b[0m             \u001b[0mself\u001b[0m\u001b[1;33m.\u001b[0m\u001b[0m_num_yielded\u001b[0m \u001b[1;33m+=\u001b[0m \u001b[1;36m1\u001b[0m\u001b[1;33m\u001b[0m\u001b[1;33m\u001b[0m\u001b[0m\n\u001b[0;32m    630\u001b[0m             \u001b[1;32mif\u001b[0m \u001b[0mself\u001b[0m\u001b[1;33m.\u001b[0m\u001b[0m_dataset_kind\u001b[0m \u001b[1;33m==\u001b[0m \u001b[0m_DatasetKind\u001b[0m\u001b[1;33m.\u001b[0m\u001b[0mIterable\u001b[0m \u001b[1;32mand\u001b[0m\u001b[0;31m \u001b[0m\u001b[0;31m\\\u001b[0m\u001b[1;33m\u001b[0m\u001b[1;33m\u001b[0m\u001b[0m\n",
      "\u001b[1;32mc:\\Users\\harit\\AppData\\Local\\Programs\\Python\\Python37\\lib\\site-packages\\torch\\utils\\data\\dataloader.py\u001b[0m in \u001b[0;36m_next_data\u001b[1;34m(self)\u001b[0m\n\u001b[0;32m    669\u001b[0m     \u001b[1;32mdef\u001b[0m \u001b[0m_next_data\u001b[0m\u001b[1;33m(\u001b[0m\u001b[0mself\u001b[0m\u001b[1;33m)\u001b[0m\u001b[1;33m:\u001b[0m\u001b[1;33m\u001b[0m\u001b[1;33m\u001b[0m\u001b[0m\n\u001b[0;32m    670\u001b[0m         \u001b[0mindex\u001b[0m \u001b[1;33m=\u001b[0m \u001b[0mself\u001b[0m\u001b[1;33m.\u001b[0m\u001b[0m_next_index\u001b[0m\u001b[1;33m(\u001b[0m\u001b[1;33m)\u001b[0m  \u001b[1;31m# may raise StopIteration\u001b[0m\u001b[1;33m\u001b[0m\u001b[1;33m\u001b[0m\u001b[0m\n\u001b[1;32m--> 671\u001b[1;33m         \u001b[0mdata\u001b[0m \u001b[1;33m=\u001b[0m \u001b[0mself\u001b[0m\u001b[1;33m.\u001b[0m\u001b[0m_dataset_fetcher\u001b[0m\u001b[1;33m.\u001b[0m\u001b[0mfetch\u001b[0m\u001b[1;33m(\u001b[0m\u001b[0mindex\u001b[0m\u001b[1;33m)\u001b[0m  \u001b[1;31m# may raise StopIteration\u001b[0m\u001b[1;33m\u001b[0m\u001b[1;33m\u001b[0m\u001b[0m\n\u001b[0m\u001b[0;32m    672\u001b[0m         \u001b[1;32mif\u001b[0m \u001b[0mself\u001b[0m\u001b[1;33m.\u001b[0m\u001b[0m_pin_memory\u001b[0m\u001b[1;33m:\u001b[0m\u001b[1;33m\u001b[0m\u001b[1;33m\u001b[0m\u001b[0m\n\u001b[0;32m    673\u001b[0m             \u001b[0mdata\u001b[0m \u001b[1;33m=\u001b[0m \u001b[0m_utils\u001b[0m\u001b[1;33m.\u001b[0m\u001b[0mpin_memory\u001b[0m\u001b[1;33m.\u001b[0m\u001b[0mpin_memory\u001b[0m\u001b[1;33m(\u001b[0m\u001b[0mdata\u001b[0m\u001b[1;33m,\u001b[0m \u001b[0mself\u001b[0m\u001b[1;33m.\u001b[0m\u001b[0m_pin_memory_device\u001b[0m\u001b[1;33m)\u001b[0m\u001b[1;33m\u001b[0m\u001b[1;33m\u001b[0m\u001b[0m\n",
      "\u001b[1;31mKeyboardInterrupt\u001b[0m: "
     ]
    }
   ],
   "source": [
    "writer = SummaryWriter()\n",
    "\n",
    "EPOCHS = 100\n",
    "allepoch_train_acc = []\n",
    "allepoch_train_loss = []\n",
    "allepoch_test_acc = []\n",
    "allepoch_test_loss = []\n",
    "allepoch_test_precision = []\n",
    "allepoch_test_recall = []\n",
    "allepoch_test_f1 = []\n",
    "for epoch in range(EPOCHS):\n",
    "        running_loss = []\n",
    "        running_train_acc = []\n",
    "        model.train()\n",
    "        for batch_idx, (data, target) in enumerate(train_loader):\n",
    "            # # Limiting training data for faster epochs.\n",
    "            # if batch_idx * BATCHSIZE >= N_TRAIN_EXAMPLES:\n",
    "            #     break\n",
    "\n",
    "\n",
    "            data = data.float().to(device)\n",
    "            target = target.float().to(device)\n",
    "\n",
    "            optimizer.zero_grad()\n",
    "            output = model(data)\n",
    "            output = output.flatten()\n",
    "            \n",
    "            loss = loss_fn(output,target)\n",
    "            loss.backward()\n",
    "            optimizer.step()\n",
    "    \n",
    "            running_loss.append(loss.item()) \n",
    "\n",
    "            with torch.no_grad():\n",
    "                target = target.flatten()\n",
    "                output = torch.round(output)\n",
    "                correct = (output == target).sum().item()\n",
    "                train_acc = correct/len(target)\n",
    "                train_acc = round(train_acc, 8)\n",
    "                running_train_acc.append(train_acc)\n",
    "        train_acc = np.mean(running_train_acc)\n",
    "\n",
    "        # Validation of the model.\n",
    "        model.eval()\n",
    "        correct = 0\n",
    "        with torch.no_grad():\n",
    "            for batch_idx, (data, target) in enumerate(test_loader):\n",
    "                # # Limiting validation data.\n",
    "                # if batch_idx * BATCHSIZE >= N_VALID_EXAMPLES:\n",
    "                #     break\n",
    "                data = data.float().to(device)\n",
    "                target = target.float().to(device)               \n",
    "                output = model(data)\n",
    "                output = output.flatten()\n",
    "                data = data.flatten()\n",
    "                output = torch.round(output)\n",
    "                correct = (output == target).sum().item()\n",
    "                test_loss = loss_fn(output, target)\n",
    "                # # Get the index of the max log-probability.\n",
    "                # pred = output.argmax(dim=1, keepdim=True)\n",
    "                # correct += pred.eq(target.view_as(pred)).sum().item()\n",
    "        #accuracy = correct/len(valid_loader.dataset)\n",
    "            test_acc = correct / len(test_loader.dataset) #min(len(test_loader.dataset),N_VALID_EXAMPLES)\n",
    "            train_loss = np.mean(running_loss)\n",
    "\n",
    "            \n",
    "            output = output.cpu().detach().numpy()\n",
    "            target = target.cpu().detach().numpy()\n",
    "            test_precision = precision_score(output, target, zero_division=0)\n",
    "            test_f1_score = f1_score(output, target, zero_division=0)\n",
    "            test_recall_score = recall_score(output, target, zero_division=0)\n",
    "            test_loss = test_loss.cpu().detach().numpy()\n",
    "            allepoch_train_acc.append(train_acc)\n",
    "            allepoch_train_loss.append(train_loss)\n",
    "            allepoch_test_acc.append(test_acc)\n",
    "            allepoch_test_loss.append(test_loss)\n",
    "            allepoch_test_precision.append(test_precision)\n",
    "            allepoch_test_recall.append(test_recall_score)\n",
    "            allepoch_test_f1.append(test_f1_score)\n",
    "        print(f\"{epoch}, Loss: {train_loss:.3f}, testloss: {test_loss:.3f} Train_Accuracy: {train_acc*100}, Test_Accuracy: {test_acc*100:.2f},test precision: {test_precision},test recall: {test_recall_score},test f1: {test_f1_score}\")\n",
    "\n",
    "        writer.add_scalars('Accuracy', {\n",
    "            'train accuracy':train_loss*100,\n",
    "            'test accuracy': test_acc*100\n",
    "            }, epoch+1)\n",
    "        \n",
    "\n",
    "        writer.add_scalars('Loss', {\n",
    "            'train loss':train_loss,\n",
    "            'test loss': test_loss\n",
    "            }, epoch+1)"
   ]
  },
  {
   "cell_type": "code",
   "execution_count": 55,
   "metadata": {},
   "outputs": [
    {
     "data": {
      "text/plain": [
       "[<matplotlib.lines.Line2D at 0x222b9cf6408>]"
      ]
     },
     "execution_count": 55,
     "metadata": {},
     "output_type": "execute_result"
    },
    {
     "data": {
      "image/png": "[encoded data removed]",
      "text/plain": [
       "<Figure size 640x480 with 1 Axes>"
      ]
     },
     "metadata": {},
     "output_type": "display_data"
    }
   ],
   "source": [
    "from matplotlib import pyplot as plt\n",
    "plt.plot(allepoch_test_loss, label='train loss')"
   ]
  },
  {
   "cell_type": "code",
   "execution_count": null,
   "metadata": {},
   "outputs": [
    {
     "data": {
      "text/plain": [
       "tensor([[0., 1., 0.,  ..., 0., 0., 0.],\n",
       "        [0., 0., 0.,  ..., 0., 0., 0.],\n",
       "        [0., 0., 0.,  ..., 0., 0., 0.],\n",
       "        ...,\n",
       "        [0., 0., 0.,  ..., 0., 0., 0.],\n",
       "        [0., 1., 0.,  ..., 0., 0., 0.],\n",
       "        [0., 0., 0.,  ..., 0., 0., 0.]])"
      ]
     },
     "execution_count": 125,
     "metadata": {},
     "output_type": "execute_result"
    }
   ],
   "source": [
    "train_loader.dataset.tensors[0]"
   ]
  },
  {
   "cell_type": "code",
   "execution_count": null,
   "metadata": {},
   "outputs": [],
   "source": [
    "\n",
    "\n"
   ]
  }
 ],
 "metadata": {
  "kernelspec": {
   "display_name": "Python 3",
   "language": "python",
   "name": "python3"
  },
  "language_info": {
   "codemirror_mode": {
    "name": "ipython",
    "version": 3
   },
   "file_extension": ".py",
   "mimetype": "text/x-python",
   "name": "python",
   "nbconvert_exporter": "python",
   "pygments_lexer": "ipython3",
   "version": "3.7.9"
  },
  "orig_nbformat": 4
 },
 "nbformat": 4,
 "nbformat_minor": 2
}
