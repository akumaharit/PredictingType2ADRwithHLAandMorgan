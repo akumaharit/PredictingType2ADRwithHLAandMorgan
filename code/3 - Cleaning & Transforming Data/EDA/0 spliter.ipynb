{
 "cells": [
  {
   "cell_type": "code",
   "execution_count": null,
   "metadata": {},
   "outputs": [],
   "source": [
    "import pandas as pd\n",
    "import numpy as np\n",
    "import seaborn as sns\n",
    "\n",
    "import matplotlib.pyplot as pl\n",
    "t\n",
    "df = pd.read_csv('../1 cleaned_dataset_splited_output_NOALLELE_NODRUGDESC.csv', index_col = None)\n",
    "df.drop(['index','Pat1','ExpCtrl2','ADR','Cohort ethnicity'], axis = 1, inplace = True)\n",
    "\n",
    "df_complete = pd.get_dummies(df,columns=['Drug'])\n",
    "no_adr = df_complete['No_ADR']\n",
    "df_complete.drop(columns = ['No_ADR'] ,axis=1,inplace=True)\n",
    "df_complete.insert(0, 'No_ADR', no_adr)\n",
    "df_complete.to_csv('processing no drug desc and no prot seq (onehot drug).csv', index = False)\n",
    "\n",
    "df_complete = pd.get_dummies(df, columns=['Allele','Drug'])\n",
    "no_adr = df_complete['No_ADR']\n",
    "df_complete.drop(columns = ['No_ADR'] ,axis=1,inplace=True)\n",
    "df_complete.insert(0, 'No_ADR', no_adr)\n",
    "df_complete.to_csv('processing no drug desc and no prot seq.csv', index = False)\n",
    "\n",
    "df_complete = pd.get_dummies(df, columns=['Allele'])\n",
    "no_adr = df_complete['No_ADR']\n",
    "df_complete.drop(columns = ['No_ADR'] ,axis=1,inplace=True)\n",
    "df_complete.insert(0, 'No_ADR', no_adr)\n",
    "df_complete.to_csv('processing no drug desc and no prot seq (onehot allele).csv', index = False)"
   ]
  }
 ],
 "metadata": {
  "language_info": {
   "name": "python"
  },
  "orig_nbformat": 4
 },
 "nbformat": 4,
 "nbformat_minor": 2
}
